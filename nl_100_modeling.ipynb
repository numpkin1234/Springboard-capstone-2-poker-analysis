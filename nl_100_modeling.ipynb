{
 "cells": [
  {
   "cell_type": "code",
   "execution_count": 1,
   "metadata": {},
   "outputs": [],
   "source": [
    "from sklearn import metrics\n",
    "from sklearn.model_selection import train_test_split, cross_val_score, GridSearchCV, RandomizedSearchCV\n",
    "from sklearn.feature_selection import SelectFromModel\n",
    "from sklearn.ensemble import RandomForestClassifier\n",
    "from sklearn.linear_model import LogisticRegression, ElasticNet\n",
    "import xgboost as xgb\n",
    "import statsmodels.api as sm\n",
    "import pandas as pd\n",
    "import numpy as np\n",
    "import matplotlib.pyplot as plt"
   ]
  },
  {
   "cell_type": "code",
   "execution_count": 2,
   "metadata": {
    "scrolled": true
   },
   "outputs": [
    {
     "data": {
      "text/html": [
       "<div>\n",
       "<style scoped>\n",
       "    .dataframe tbody tr th:only-of-type {\n",
       "        vertical-align: middle;\n",
       "    }\n",
       "\n",
       "    .dataframe tbody tr th {\n",
       "        vertical-align: top;\n",
       "    }\n",
       "\n",
       "    .dataframe thead th {\n",
       "        text-align: right;\n",
       "    }\n",
       "</style>\n",
       "<table border=\"1\" class=\"dataframe\">\n",
       "  <thead>\n",
       "    <tr style=\"text-align: right;\">\n",
       "      <th></th>\n",
       "      <th>win_per_hand</th>\n",
       "      <th>win_per_hand_involve</th>\n",
       "      <th>p_agg_aggressive</th>\n",
       "      <th>p_agg_passive</th>\n",
       "      <th>f_agg_aggressive</th>\n",
       "      <th>f_agg_passive</th>\n",
       "      <th>t_agg_aggressive</th>\n",
       "      <th>t_agg_passive</th>\n",
       "      <th>r_agg_aggressive</th>\n",
       "      <th>r_agg_passive</th>\n",
       "      <th>vpip_loose</th>\n",
       "      <th>vpip_tight</th>\n",
       "      <th>pot_size_large</th>\n",
       "      <th>pot_size_small</th>\n",
       "      <th>post_num_less</th>\n",
       "      <th>post_num_many</th>\n",
       "    </tr>\n",
       "  </thead>\n",
       "  <tbody>\n",
       "    <tr>\n",
       "      <th>0</th>\n",
       "      <td>0</td>\n",
       "      <td>0</td>\n",
       "      <td>1</td>\n",
       "      <td>0</td>\n",
       "      <td>0</td>\n",
       "      <td>1</td>\n",
       "      <td>0</td>\n",
       "      <td>1</td>\n",
       "      <td>0</td>\n",
       "      <td>1</td>\n",
       "      <td>0</td>\n",
       "      <td>1</td>\n",
       "      <td>1</td>\n",
       "      <td>0</td>\n",
       "      <td>1</td>\n",
       "      <td>0</td>\n",
       "    </tr>\n",
       "    <tr>\n",
       "      <th>1</th>\n",
       "      <td>1</td>\n",
       "      <td>1</td>\n",
       "      <td>0</td>\n",
       "      <td>1</td>\n",
       "      <td>1</td>\n",
       "      <td>0</td>\n",
       "      <td>1</td>\n",
       "      <td>0</td>\n",
       "      <td>1</td>\n",
       "      <td>0</td>\n",
       "      <td>0</td>\n",
       "      <td>1</td>\n",
       "      <td>1</td>\n",
       "      <td>0</td>\n",
       "      <td>1</td>\n",
       "      <td>0</td>\n",
       "    </tr>\n",
       "    <tr>\n",
       "      <th>2</th>\n",
       "      <td>1</td>\n",
       "      <td>0</td>\n",
       "      <td>0</td>\n",
       "      <td>1</td>\n",
       "      <td>0</td>\n",
       "      <td>1</td>\n",
       "      <td>0</td>\n",
       "      <td>1</td>\n",
       "      <td>0</td>\n",
       "      <td>1</td>\n",
       "      <td>0</td>\n",
       "      <td>1</td>\n",
       "      <td>0</td>\n",
       "      <td>1</td>\n",
       "      <td>0</td>\n",
       "      <td>1</td>\n",
       "    </tr>\n",
       "    <tr>\n",
       "      <th>3</th>\n",
       "      <td>0</td>\n",
       "      <td>0</td>\n",
       "      <td>1</td>\n",
       "      <td>0</td>\n",
       "      <td>1</td>\n",
       "      <td>0</td>\n",
       "      <td>0</td>\n",
       "      <td>1</td>\n",
       "      <td>0</td>\n",
       "      <td>1</td>\n",
       "      <td>0</td>\n",
       "      <td>1</td>\n",
       "      <td>1</td>\n",
       "      <td>0</td>\n",
       "      <td>1</td>\n",
       "      <td>0</td>\n",
       "    </tr>\n",
       "    <tr>\n",
       "      <th>4</th>\n",
       "      <td>0</td>\n",
       "      <td>0</td>\n",
       "      <td>1</td>\n",
       "      <td>0</td>\n",
       "      <td>0</td>\n",
       "      <td>1</td>\n",
       "      <td>0</td>\n",
       "      <td>1</td>\n",
       "      <td>0</td>\n",
       "      <td>1</td>\n",
       "      <td>0</td>\n",
       "      <td>1</td>\n",
       "      <td>0</td>\n",
       "      <td>1</td>\n",
       "      <td>1</td>\n",
       "      <td>0</td>\n",
       "    </tr>\n",
       "    <tr>\n",
       "      <th>...</th>\n",
       "      <td>...</td>\n",
       "      <td>...</td>\n",
       "      <td>...</td>\n",
       "      <td>...</td>\n",
       "      <td>...</td>\n",
       "      <td>...</td>\n",
       "      <td>...</td>\n",
       "      <td>...</td>\n",
       "      <td>...</td>\n",
       "      <td>...</td>\n",
       "      <td>...</td>\n",
       "      <td>...</td>\n",
       "      <td>...</td>\n",
       "      <td>...</td>\n",
       "      <td>...</td>\n",
       "      <td>...</td>\n",
       "    </tr>\n",
       "    <tr>\n",
       "      <th>324</th>\n",
       "      <td>0</td>\n",
       "      <td>0</td>\n",
       "      <td>1</td>\n",
       "      <td>0</td>\n",
       "      <td>0</td>\n",
       "      <td>1</td>\n",
       "      <td>0</td>\n",
       "      <td>1</td>\n",
       "      <td>1</td>\n",
       "      <td>0</td>\n",
       "      <td>1</td>\n",
       "      <td>0</td>\n",
       "      <td>0</td>\n",
       "      <td>1</td>\n",
       "      <td>1</td>\n",
       "      <td>0</td>\n",
       "    </tr>\n",
       "    <tr>\n",
       "      <th>325</th>\n",
       "      <td>0</td>\n",
       "      <td>0</td>\n",
       "      <td>0</td>\n",
       "      <td>1</td>\n",
       "      <td>0</td>\n",
       "      <td>1</td>\n",
       "      <td>1</td>\n",
       "      <td>0</td>\n",
       "      <td>0</td>\n",
       "      <td>1</td>\n",
       "      <td>1</td>\n",
       "      <td>0</td>\n",
       "      <td>1</td>\n",
       "      <td>0</td>\n",
       "      <td>0</td>\n",
       "      <td>1</td>\n",
       "    </tr>\n",
       "    <tr>\n",
       "      <th>326</th>\n",
       "      <td>1</td>\n",
       "      <td>1</td>\n",
       "      <td>0</td>\n",
       "      <td>1</td>\n",
       "      <td>0</td>\n",
       "      <td>1</td>\n",
       "      <td>0</td>\n",
       "      <td>1</td>\n",
       "      <td>1</td>\n",
       "      <td>0</td>\n",
       "      <td>0</td>\n",
       "      <td>1</td>\n",
       "      <td>0</td>\n",
       "      <td>1</td>\n",
       "      <td>0</td>\n",
       "      <td>1</td>\n",
       "    </tr>\n",
       "    <tr>\n",
       "      <th>327</th>\n",
       "      <td>1</td>\n",
       "      <td>1</td>\n",
       "      <td>0</td>\n",
       "      <td>1</td>\n",
       "      <td>0</td>\n",
       "      <td>1</td>\n",
       "      <td>0</td>\n",
       "      <td>1</td>\n",
       "      <td>0</td>\n",
       "      <td>1</td>\n",
       "      <td>0</td>\n",
       "      <td>1</td>\n",
       "      <td>0</td>\n",
       "      <td>1</td>\n",
       "      <td>0</td>\n",
       "      <td>1</td>\n",
       "    </tr>\n",
       "    <tr>\n",
       "      <th>328</th>\n",
       "      <td>0</td>\n",
       "      <td>0</td>\n",
       "      <td>1</td>\n",
       "      <td>0</td>\n",
       "      <td>0</td>\n",
       "      <td>1</td>\n",
       "      <td>0</td>\n",
       "      <td>1</td>\n",
       "      <td>0</td>\n",
       "      <td>1</td>\n",
       "      <td>0</td>\n",
       "      <td>1</td>\n",
       "      <td>0</td>\n",
       "      <td>1</td>\n",
       "      <td>0</td>\n",
       "      <td>1</td>\n",
       "    </tr>\n",
       "  </tbody>\n",
       "</table>\n",
       "<p>329 rows × 16 columns</p>\n",
       "</div>"
      ],
      "text/plain": [
       "     win_per_hand  win_per_hand_involve  p_agg_aggressive  p_agg_passive  \\\n",
       "0               0                     0                 1              0   \n",
       "1               1                     1                 0              1   \n",
       "2               1                     0                 0              1   \n",
       "3               0                     0                 1              0   \n",
       "4               0                     0                 1              0   \n",
       "..            ...                   ...               ...            ...   \n",
       "324             0                     0                 1              0   \n",
       "325             0                     0                 0              1   \n",
       "326             1                     1                 0              1   \n",
       "327             1                     1                 0              1   \n",
       "328             0                     0                 1              0   \n",
       "\n",
       "     f_agg_aggressive  f_agg_passive  t_agg_aggressive  t_agg_passive  \\\n",
       "0                   0              1                 0              1   \n",
       "1                   1              0                 1              0   \n",
       "2                   0              1                 0              1   \n",
       "3                   1              0                 0              1   \n",
       "4                   0              1                 0              1   \n",
       "..                ...            ...               ...            ...   \n",
       "324                 0              1                 0              1   \n",
       "325                 0              1                 1              0   \n",
       "326                 0              1                 0              1   \n",
       "327                 0              1                 0              1   \n",
       "328                 0              1                 0              1   \n",
       "\n",
       "     r_agg_aggressive  r_agg_passive  vpip_loose  vpip_tight  pot_size_large  \\\n",
       "0                   0              1           0           1               1   \n",
       "1                   1              0           0           1               1   \n",
       "2                   0              1           0           1               0   \n",
       "3                   0              1           0           1               1   \n",
       "4                   0              1           0           1               0   \n",
       "..                ...            ...         ...         ...             ...   \n",
       "324                 1              0           1           0               0   \n",
       "325                 0              1           1           0               1   \n",
       "326                 1              0           0           1               0   \n",
       "327                 0              1           0           1               0   \n",
       "328                 0              1           0           1               0   \n",
       "\n",
       "     pot_size_small  post_num_less  post_num_many  \n",
       "0                 0              1              0  \n",
       "1                 0              1              0  \n",
       "2                 1              0              1  \n",
       "3                 0              1              0  \n",
       "4                 1              1              0  \n",
       "..              ...            ...            ...  \n",
       "324               1              1              0  \n",
       "325               0              0              1  \n",
       "326               1              0              1  \n",
       "327               1              0              1  \n",
       "328               1              0              1  \n",
       "\n",
       "[329 rows x 16 columns]"
      ]
     },
     "execution_count": 2,
     "metadata": {},
     "output_type": "execute_result"
    }
   ],
   "source": [
    "player_info_df = pd.read_csv(r'result_files/nl_100_dummies.csv').drop('Unnamed: 0', axis=1)\n",
    "player_info_df"
   ]
  },
  {
   "cell_type": "code",
   "execution_count": 3,
   "metadata": {},
   "outputs": [
    {
     "data": {
      "text/plain": [
       "30"
      ]
     },
     "execution_count": 3,
     "metadata": {},
     "output_type": "execute_result"
    }
   ],
   "source": [
    "# how many entries are different on the 2 dependent variables?\n",
    "sum(player_info_df['win_per_hand'] != player_info_df['win_per_hand_involve'])"
   ]
  },
  {
   "cell_type": "markdown",
   "metadata": {},
   "source": [
    "**There are 2 dependent variables in the data frame right now, but they are quite similar. From the above line we can see only 30 entries are different in the 2 columns. I will be analyzing win_per_hand as the dependent variable first, because I think this will be what people are more interested in while playing poker. I will explore the random forest model, logistic regression model, and gradient boosting.**"
   ]
  },
  {
   "cell_type": "markdown",
   "metadata": {},
   "source": [
    "### Splitting data"
   ]
  },
  {
   "cell_type": "code",
   "execution_count": 4,
   "metadata": {},
   "outputs": [
    {
     "data": {
      "text/html": [
       "<div>\n",
       "<style scoped>\n",
       "    .dataframe tbody tr th:only-of-type {\n",
       "        vertical-align: middle;\n",
       "    }\n",
       "\n",
       "    .dataframe tbody tr th {\n",
       "        vertical-align: top;\n",
       "    }\n",
       "\n",
       "    .dataframe thead th {\n",
       "        text-align: right;\n",
       "    }\n",
       "</style>\n",
       "<table border=\"1\" class=\"dataframe\">\n",
       "  <thead>\n",
       "    <tr style=\"text-align: right;\">\n",
       "      <th></th>\n",
       "      <th>p_agg_aggressive</th>\n",
       "      <th>p_agg_passive</th>\n",
       "      <th>f_agg_aggressive</th>\n",
       "      <th>f_agg_passive</th>\n",
       "      <th>t_agg_aggressive</th>\n",
       "      <th>t_agg_passive</th>\n",
       "      <th>r_agg_aggressive</th>\n",
       "      <th>r_agg_passive</th>\n",
       "      <th>vpip_loose</th>\n",
       "      <th>vpip_tight</th>\n",
       "      <th>pot_size_large</th>\n",
       "      <th>pot_size_small</th>\n",
       "      <th>post_num_less</th>\n",
       "      <th>post_num_many</th>\n",
       "    </tr>\n",
       "  </thead>\n",
       "  <tbody>\n",
       "    <tr>\n",
       "      <th>0</th>\n",
       "      <td>1</td>\n",
       "      <td>0</td>\n",
       "      <td>0</td>\n",
       "      <td>1</td>\n",
       "      <td>0</td>\n",
       "      <td>1</td>\n",
       "      <td>0</td>\n",
       "      <td>1</td>\n",
       "      <td>0</td>\n",
       "      <td>1</td>\n",
       "      <td>1</td>\n",
       "      <td>0</td>\n",
       "      <td>1</td>\n",
       "      <td>0</td>\n",
       "    </tr>\n",
       "    <tr>\n",
       "      <th>1</th>\n",
       "      <td>0</td>\n",
       "      <td>1</td>\n",
       "      <td>1</td>\n",
       "      <td>0</td>\n",
       "      <td>1</td>\n",
       "      <td>0</td>\n",
       "      <td>1</td>\n",
       "      <td>0</td>\n",
       "      <td>0</td>\n",
       "      <td>1</td>\n",
       "      <td>1</td>\n",
       "      <td>0</td>\n",
       "      <td>1</td>\n",
       "      <td>0</td>\n",
       "    </tr>\n",
       "    <tr>\n",
       "      <th>2</th>\n",
       "      <td>0</td>\n",
       "      <td>1</td>\n",
       "      <td>0</td>\n",
       "      <td>1</td>\n",
       "      <td>0</td>\n",
       "      <td>1</td>\n",
       "      <td>0</td>\n",
       "      <td>1</td>\n",
       "      <td>0</td>\n",
       "      <td>1</td>\n",
       "      <td>0</td>\n",
       "      <td>1</td>\n",
       "      <td>0</td>\n",
       "      <td>1</td>\n",
       "    </tr>\n",
       "    <tr>\n",
       "      <th>3</th>\n",
       "      <td>1</td>\n",
       "      <td>0</td>\n",
       "      <td>1</td>\n",
       "      <td>0</td>\n",
       "      <td>0</td>\n",
       "      <td>1</td>\n",
       "      <td>0</td>\n",
       "      <td>1</td>\n",
       "      <td>0</td>\n",
       "      <td>1</td>\n",
       "      <td>1</td>\n",
       "      <td>0</td>\n",
       "      <td>1</td>\n",
       "      <td>0</td>\n",
       "    </tr>\n",
       "    <tr>\n",
       "      <th>4</th>\n",
       "      <td>1</td>\n",
       "      <td>0</td>\n",
       "      <td>0</td>\n",
       "      <td>1</td>\n",
       "      <td>0</td>\n",
       "      <td>1</td>\n",
       "      <td>0</td>\n",
       "      <td>1</td>\n",
       "      <td>0</td>\n",
       "      <td>1</td>\n",
       "      <td>0</td>\n",
       "      <td>1</td>\n",
       "      <td>1</td>\n",
       "      <td>0</td>\n",
       "    </tr>\n",
       "  </tbody>\n",
       "</table>\n",
       "</div>"
      ],
      "text/plain": [
       "   p_agg_aggressive  p_agg_passive  f_agg_aggressive  f_agg_passive  \\\n",
       "0                 1              0                 0              1   \n",
       "1                 0              1                 1              0   \n",
       "2                 0              1                 0              1   \n",
       "3                 1              0                 1              0   \n",
       "4                 1              0                 0              1   \n",
       "\n",
       "   t_agg_aggressive  t_agg_passive  r_agg_aggressive  r_agg_passive  \\\n",
       "0                 0              1                 0              1   \n",
       "1                 1              0                 1              0   \n",
       "2                 0              1                 0              1   \n",
       "3                 0              1                 0              1   \n",
       "4                 0              1                 0              1   \n",
       "\n",
       "   vpip_loose  vpip_tight  pot_size_large  pot_size_small  post_num_less  \\\n",
       "0           0           1               1               0              1   \n",
       "1           0           1               1               0              1   \n",
       "2           0           1               0               1              0   \n",
       "3           0           1               1               0              1   \n",
       "4           0           1               0               1              1   \n",
       "\n",
       "   post_num_many  \n",
       "0              0  \n",
       "1              0  \n",
       "2              1  \n",
       "3              0  \n",
       "4              0  "
      ]
     },
     "execution_count": 4,
     "metadata": {},
     "output_type": "execute_result"
    }
   ],
   "source": [
    "X = player_info_df.drop(['win_per_hand', 'win_per_hand_involve'], axis=1)\n",
    "y = player_info_df['win_per_hand']\n",
    "X.head()"
   ]
  },
  {
   "cell_type": "markdown",
   "metadata": {},
   "source": [
    "#### Remove highly correlated feature columns, for example, p_agg_aggressive and p_agg_passive are the inverse of each other. "
   ]
  },
  {
   "cell_type": "code",
   "execution_count": 5,
   "metadata": {},
   "outputs": [],
   "source": [
    "X.drop(['p_agg_passive', 'f_agg_passive', 't_agg_passive', 'r_agg_passive', 'post_num_less', 'vpip_loose', 'pot_size_small'], axis=1, inplace=True)"
   ]
  },
  {
   "cell_type": "code",
   "execution_count": 6,
   "metadata": {
    "scrolled": true
   },
   "outputs": [
    {
     "data": {
      "text/html": [
       "<div>\n",
       "<style scoped>\n",
       "    .dataframe tbody tr th:only-of-type {\n",
       "        vertical-align: middle;\n",
       "    }\n",
       "\n",
       "    .dataframe tbody tr th {\n",
       "        vertical-align: top;\n",
       "    }\n",
       "\n",
       "    .dataframe thead th {\n",
       "        text-align: right;\n",
       "    }\n",
       "</style>\n",
       "<table border=\"1\" class=\"dataframe\">\n",
       "  <thead>\n",
       "    <tr style=\"text-align: right;\">\n",
       "      <th></th>\n",
       "      <th>p_agg_aggressive</th>\n",
       "      <th>f_agg_aggressive</th>\n",
       "      <th>t_agg_aggressive</th>\n",
       "      <th>r_agg_aggressive</th>\n",
       "      <th>vpip_tight</th>\n",
       "      <th>pot_size_large</th>\n",
       "      <th>post_num_many</th>\n",
       "    </tr>\n",
       "  </thead>\n",
       "  <tbody>\n",
       "    <tr>\n",
       "      <th>0</th>\n",
       "      <td>1</td>\n",
       "      <td>0</td>\n",
       "      <td>0</td>\n",
       "      <td>0</td>\n",
       "      <td>1</td>\n",
       "      <td>1</td>\n",
       "      <td>0</td>\n",
       "    </tr>\n",
       "    <tr>\n",
       "      <th>1</th>\n",
       "      <td>0</td>\n",
       "      <td>1</td>\n",
       "      <td>1</td>\n",
       "      <td>1</td>\n",
       "      <td>1</td>\n",
       "      <td>1</td>\n",
       "      <td>0</td>\n",
       "    </tr>\n",
       "    <tr>\n",
       "      <th>2</th>\n",
       "      <td>0</td>\n",
       "      <td>0</td>\n",
       "      <td>0</td>\n",
       "      <td>0</td>\n",
       "      <td>1</td>\n",
       "      <td>0</td>\n",
       "      <td>1</td>\n",
       "    </tr>\n",
       "    <tr>\n",
       "      <th>3</th>\n",
       "      <td>1</td>\n",
       "      <td>1</td>\n",
       "      <td>0</td>\n",
       "      <td>0</td>\n",
       "      <td>1</td>\n",
       "      <td>1</td>\n",
       "      <td>0</td>\n",
       "    </tr>\n",
       "    <tr>\n",
       "      <th>4</th>\n",
       "      <td>1</td>\n",
       "      <td>0</td>\n",
       "      <td>0</td>\n",
       "      <td>0</td>\n",
       "      <td>1</td>\n",
       "      <td>0</td>\n",
       "      <td>0</td>\n",
       "    </tr>\n",
       "  </tbody>\n",
       "</table>\n",
       "</div>"
      ],
      "text/plain": [
       "   p_agg_aggressive  f_agg_aggressive  t_agg_aggressive  r_agg_aggressive  \\\n",
       "0                 1                 0                 0                 0   \n",
       "1                 0                 1                 1                 1   \n",
       "2                 0                 0                 0                 0   \n",
       "3                 1                 1                 0                 0   \n",
       "4                 1                 0                 0                 0   \n",
       "\n",
       "   vpip_tight  pot_size_large  post_num_many  \n",
       "0           1               1              0  \n",
       "1           1               1              0  \n",
       "2           1               0              1  \n",
       "3           1               1              0  \n",
       "4           1               0              0  "
      ]
     },
     "execution_count": 6,
     "metadata": {},
     "output_type": "execute_result"
    }
   ],
   "source": [
    "X.head()"
   ]
  },
  {
   "cell_type": "code",
   "execution_count": 51,
   "metadata": {},
   "outputs": [
    {
     "data": {
      "text/html": [
       "<div>\n",
       "<style scoped>\n",
       "    .dataframe tbody tr th:only-of-type {\n",
       "        vertical-align: middle;\n",
       "    }\n",
       "\n",
       "    .dataframe tbody tr th {\n",
       "        vertical-align: top;\n",
       "    }\n",
       "\n",
       "    .dataframe thead th {\n",
       "        text-align: right;\n",
       "    }\n",
       "</style>\n",
       "<table border=\"1\" class=\"dataframe\">\n",
       "  <thead>\n",
       "    <tr style=\"text-align: right;\">\n",
       "      <th></th>\n",
       "      <th>p_agg_aggressive</th>\n",
       "      <th>f_agg_aggressive</th>\n",
       "      <th>t_agg_aggressive</th>\n",
       "      <th>r_agg_aggressive</th>\n",
       "      <th>vpip_tight</th>\n",
       "      <th>pot_size_large</th>\n",
       "      <th>post_num_many</th>\n",
       "      <th>win_per_hand</th>\n",
       "    </tr>\n",
       "  </thead>\n",
       "  <tbody>\n",
       "    <tr>\n",
       "      <th>0</th>\n",
       "      <td>1</td>\n",
       "      <td>0</td>\n",
       "      <td>0</td>\n",
       "      <td>0</td>\n",
       "      <td>1</td>\n",
       "      <td>1</td>\n",
       "      <td>0</td>\n",
       "      <td>0</td>\n",
       "    </tr>\n",
       "    <tr>\n",
       "      <th>1</th>\n",
       "      <td>0</td>\n",
       "      <td>1</td>\n",
       "      <td>1</td>\n",
       "      <td>1</td>\n",
       "      <td>1</td>\n",
       "      <td>1</td>\n",
       "      <td>0</td>\n",
       "      <td>1</td>\n",
       "    </tr>\n",
       "    <tr>\n",
       "      <th>2</th>\n",
       "      <td>0</td>\n",
       "      <td>0</td>\n",
       "      <td>0</td>\n",
       "      <td>0</td>\n",
       "      <td>1</td>\n",
       "      <td>0</td>\n",
       "      <td>1</td>\n",
       "      <td>1</td>\n",
       "    </tr>\n",
       "    <tr>\n",
       "      <th>3</th>\n",
       "      <td>1</td>\n",
       "      <td>1</td>\n",
       "      <td>0</td>\n",
       "      <td>0</td>\n",
       "      <td>1</td>\n",
       "      <td>1</td>\n",
       "      <td>0</td>\n",
       "      <td>0</td>\n",
       "    </tr>\n",
       "    <tr>\n",
       "      <th>4</th>\n",
       "      <td>1</td>\n",
       "      <td>0</td>\n",
       "      <td>0</td>\n",
       "      <td>0</td>\n",
       "      <td>1</td>\n",
       "      <td>0</td>\n",
       "      <td>0</td>\n",
       "      <td>0</td>\n",
       "    </tr>\n",
       "  </tbody>\n",
       "</table>\n",
       "</div>"
      ],
      "text/plain": [
       "   p_agg_aggressive  f_agg_aggressive  t_agg_aggressive  r_agg_aggressive  \\\n",
       "0                 1                 0                 0                 0   \n",
       "1                 0                 1                 1                 1   \n",
       "2                 0                 0                 0                 0   \n",
       "3                 1                 1                 0                 0   \n",
       "4                 1                 0                 0                 0   \n",
       "\n",
       "   vpip_tight  pot_size_large  post_num_many  win_per_hand  \n",
       "0           1               1              0             0  \n",
       "1           1               1              0             1  \n",
       "2           1               0              1             1  \n",
       "3           1               1              0             0  \n",
       "4           1               0              0             0  "
      ]
     },
     "execution_count": 51,
     "metadata": {},
     "output_type": "execute_result"
    }
   ],
   "source": [
    "X.join(y).head()"
   ]
  },
  {
   "cell_type": "code",
   "execution_count": 7,
   "metadata": {},
   "outputs": [],
   "source": [
    "X_train, X_test, y_train, y_test = train_test_split(X, y, test_size=0.3, random_state=123)"
   ]
  },
  {
   "cell_type": "markdown",
   "metadata": {},
   "source": [
    "### Random forest model"
   ]
  },
  {
   "cell_type": "code",
   "execution_count": 8,
   "metadata": {
    "scrolled": true
   },
   "outputs": [
    {
     "data": {
      "text/plain": [
       "0.6464460784313726"
      ]
     },
     "execution_count": 8,
     "metadata": {},
     "output_type": "execute_result"
    }
   ],
   "source": [
    "# standard random forest model\n",
    "model_rf = RandomForestClassifier()\n",
    "model_rf.fit(X_train, y_train)\n",
    "pred_rf = model_rf.predict(X_test)\n",
    "metrics.roc_auc_score(y_test, pred_rf)"
   ]
  },
  {
   "cell_type": "markdown",
   "metadata": {},
   "source": [
    "#### Hyperparameters tunning random forest model"
   ]
  },
  {
   "cell_type": "code",
   "execution_count": 9,
   "metadata": {},
   "outputs": [],
   "source": [
    "# define parameter grid, and initialize randome search\n",
    "params_rf = {\n",
    "    'n_estimators':[25, 50, 75, 100, 200, 400],\n",
    "    'criterion':['gini', 'entropy'],\n",
    "    'max_depth':[3, 6, 10, 20, None],\n",
    "    'bootstrap':[True, False],\n",
    "    'max_features': ['auto', 'sqrt'],\n",
    "    'min_samples_leaf': [1, 2, 4],\n",
    "    'min_samples_split': [2, 5, 10]    \n",
    "}\n",
    "rf_search = RandomizedSearchCV(model_rf, param_distributions=params_rf, cv=5, n_jobs=-1)"
   ]
  },
  {
   "cell_type": "code",
   "execution_count": 10,
   "metadata": {},
   "outputs": [
    {
     "data": {
      "text/plain": [
       "RandomizedSearchCV(cv=5, error_score=nan,\n",
       "                   estimator=RandomForestClassifier(bootstrap=True,\n",
       "                                                    ccp_alpha=0.0,\n",
       "                                                    class_weight=None,\n",
       "                                                    criterion='gini',\n",
       "                                                    max_depth=None,\n",
       "                                                    max_features='auto',\n",
       "                                                    max_leaf_nodes=None,\n",
       "                                                    max_samples=None,\n",
       "                                                    min_impurity_decrease=0.0,\n",
       "                                                    min_impurity_split=None,\n",
       "                                                    min_samples_leaf=1,\n",
       "                                                    min_samples_split=2,\n",
       "                                                    min_weight_fraction_leaf=0.0,\n",
       "                                                    n_estimators=100,\n",
       "                                                    n_jobs...\n",
       "                   iid='deprecated', n_iter=10, n_jobs=-1,\n",
       "                   param_distributions={'bootstrap': [True, False],\n",
       "                                        'criterion': ['gini', 'entropy'],\n",
       "                                        'max_depth': [3, 6, 10, 20, None],\n",
       "                                        'max_features': ['auto', 'sqrt'],\n",
       "                                        'min_samples_leaf': [1, 2, 4],\n",
       "                                        'min_samples_split': [2, 5, 10],\n",
       "                                        'n_estimators': [25, 50, 75, 100, 200,\n",
       "                                                         400]},\n",
       "                   pre_dispatch='2*n_jobs', random_state=None, refit=True,\n",
       "                   return_train_score=False, scoring=None, verbose=0)"
      ]
     },
     "execution_count": 10,
     "metadata": {},
     "output_type": "execute_result"
    }
   ],
   "source": [
    "# fit the search object  to training data\n",
    "rf_search.fit(X_train, y_train)"
   ]
  },
  {
   "cell_type": "code",
   "execution_count": 11,
   "metadata": {
    "scrolled": true
   },
   "outputs": [
    {
     "data": {
      "text/plain": [
       "{'n_estimators': 200,\n",
       " 'min_samples_split': 2,\n",
       " 'min_samples_leaf': 4,\n",
       " 'max_features': 'auto',\n",
       " 'max_depth': 20,\n",
       " 'criterion': 'gini',\n",
       " 'bootstrap': True}"
      ]
     },
     "execution_count": 11,
     "metadata": {},
     "output_type": "execute_result"
    }
   ],
   "source": [
    "# examine best parameters\n",
    "rf_search.best_params_"
   ]
  },
  {
   "cell_type": "markdown",
   "metadata": {},
   "source": [
    "#### Creating random forest model with tunned hyperparameters"
   ]
  },
  {
   "cell_type": "code",
   "execution_count": 12,
   "metadata": {},
   "outputs": [],
   "source": [
    "# unpack the values of params to different variables\n",
    "n_est, min_split, min_leaf, max_feat, max_dep, crit, boot = rf_search.best_params_.values()"
   ]
  },
  {
   "cell_type": "code",
   "execution_count": 13,
   "metadata": {},
   "outputs": [
    {
     "data": {
      "text/plain": [
       "0.6366421568627452"
      ]
     },
     "execution_count": 13,
     "metadata": {},
     "output_type": "execute_result"
    }
   ],
   "source": [
    "# fit the random forest model with tunned paramenters and evaluate performance\n",
    "model_rf = RandomForestClassifier(\n",
    "    n_estimators=n_est, \n",
    "    max_depth=max_dep, \n",
    "    criterion=crit, \n",
    "    min_samples_split=min_split, \n",
    "    min_samples_leaf=min_leaf, \n",
    "    max_features=max_feat, \n",
    "    bootstrap=boot,)\n",
    "model_rf.fit(X_train, y_train)\n",
    "pred_rf = model_rf.predict(X_test)\n",
    "rf_score = metrics.roc_auc_score(y_test, pred_rf)\n",
    "rf_score"
   ]
  },
  {
   "cell_type": "markdown",
   "metadata": {},
   "source": [
    "### Logistic regression model"
   ]
  },
  {
   "cell_type": "code",
   "execution_count": 14,
   "metadata": {},
   "outputs": [
    {
     "data": {
      "text/plain": [
       "0.6770833333333335"
      ]
     },
     "execution_count": 14,
     "metadata": {},
     "output_type": "execute_result"
    }
   ],
   "source": [
    "# standard logistic regression model\n",
    "model_log = LogisticRegression()\n",
    "model_log.fit(X_train, y_train)\n",
    "pred_log = model_log.predict(X_test)\n",
    "metrics.roc_auc_score(y_test, pred_log)"
   ]
  },
  {
   "cell_type": "code",
   "execution_count": 15,
   "metadata": {
    "scrolled": true
   },
   "outputs": [
    {
     "name": "stdout",
     "output_type": "stream",
     "text": [
      "Optimization terminated successfully.\n",
      "         Current function value: 0.506739\n",
      "         Iterations 6\n"
     ]
    },
    {
     "data": {
      "text/html": [
       "<table class=\"simpletable\">\n",
       "<caption>Logit Regression Results</caption>\n",
       "<tr>\n",
       "  <th>Dep. Variable:</th>     <td>win_per_hand</td>   <th>  No. Observations:  </th>  <td>   230</td>  \n",
       "</tr>\n",
       "<tr>\n",
       "  <th>Model:</th>                 <td>Logit</td>      <th>  Df Residuals:      </th>  <td>   223</td>  \n",
       "</tr>\n",
       "<tr>\n",
       "  <th>Method:</th>                 <td>MLE</td>       <th>  Df Model:          </th>  <td>     6</td>  \n",
       "</tr>\n",
       "<tr>\n",
       "  <th>Date:</th>            <td>Thu, 17 Dec 2020</td> <th>  Pseudo R-squ.:     </th>  <td>0.2688</td>  \n",
       "</tr>\n",
       "<tr>\n",
       "  <th>Time:</th>                <td>22:33:28</td>     <th>  Log-Likelihood:    </th> <td> -116.55</td> \n",
       "</tr>\n",
       "<tr>\n",
       "  <th>converged:</th>             <td>True</td>       <th>  LL-Null:           </th> <td> -159.39</td> \n",
       "</tr>\n",
       "<tr>\n",
       "  <th>Covariance Type:</th>     <td>nonrobust</td>    <th>  LLR p-value:       </th> <td>2.388e-16</td>\n",
       "</tr>\n",
       "</table>\n",
       "<table class=\"simpletable\">\n",
       "<tr>\n",
       "          <td></td>            <th>coef</th>     <th>std err</th>      <th>z</th>      <th>P>|z|</th>  <th>[0.025</th>    <th>0.975]</th>  \n",
       "</tr>\n",
       "<tr>\n",
       "  <th>p_agg_aggressive</th> <td>   -1.3099</td> <td>    0.348</td> <td>   -3.760</td> <td> 0.000</td> <td>   -1.993</td> <td>   -0.627</td>\n",
       "</tr>\n",
       "<tr>\n",
       "  <th>f_agg_aggressive</th> <td>   -1.1274</td> <td>    0.376</td> <td>   -2.998</td> <td> 0.003</td> <td>   -1.865</td> <td>   -0.390</td>\n",
       "</tr>\n",
       "<tr>\n",
       "  <th>t_agg_aggressive</th> <td>   -0.7371</td> <td>    0.382</td> <td>   -1.927</td> <td> 0.054</td> <td>   -1.487</td> <td>    0.013</td>\n",
       "</tr>\n",
       "<tr>\n",
       "  <th>r_agg_aggressive</th> <td>    0.2790</td> <td>    0.356</td> <td>    0.784</td> <td> 0.433</td> <td>   -0.418</td> <td>    0.976</td>\n",
       "</tr>\n",
       "<tr>\n",
       "  <th>vpip_tight</th>       <td>    0.6951</td> <td>    0.311</td> <td>    2.237</td> <td> 0.025</td> <td>    0.086</td> <td>    1.304</td>\n",
       "</tr>\n",
       "<tr>\n",
       "  <th>pot_size_large</th>   <td>    1.4814</td> <td>    0.349</td> <td>    4.249</td> <td> 0.000</td> <td>    0.798</td> <td>    2.165</td>\n",
       "</tr>\n",
       "<tr>\n",
       "  <th>post_num_many</th>    <td>    0.5186</td> <td>    0.345</td> <td>    1.505</td> <td> 0.132</td> <td>   -0.157</td> <td>    1.194</td>\n",
       "</tr>\n",
       "</table>"
      ],
      "text/plain": [
       "<class 'statsmodels.iolib.summary.Summary'>\n",
       "\"\"\"\n",
       "                           Logit Regression Results                           \n",
       "==============================================================================\n",
       "Dep. Variable:           win_per_hand   No. Observations:                  230\n",
       "Model:                          Logit   Df Residuals:                      223\n",
       "Method:                           MLE   Df Model:                            6\n",
       "Date:                Thu, 17 Dec 2020   Pseudo R-squ.:                  0.2688\n",
       "Time:                        22:33:28   Log-Likelihood:                -116.55\n",
       "converged:                       True   LL-Null:                       -159.39\n",
       "Covariance Type:            nonrobust   LLR p-value:                 2.388e-16\n",
       "====================================================================================\n",
       "                       coef    std err          z      P>|z|      [0.025      0.975]\n",
       "------------------------------------------------------------------------------------\n",
       "p_agg_aggressive    -1.3099      0.348     -3.760      0.000      -1.993      -0.627\n",
       "f_agg_aggressive    -1.1274      0.376     -2.998      0.003      -1.865      -0.390\n",
       "t_agg_aggressive    -0.7371      0.382     -1.927      0.054      -1.487       0.013\n",
       "r_agg_aggressive     0.2790      0.356      0.784      0.433      -0.418       0.976\n",
       "vpip_tight           0.6951      0.311      2.237      0.025       0.086       1.304\n",
       "pot_size_large       1.4814      0.349      4.249      0.000       0.798       2.165\n",
       "post_num_many        0.5186      0.345      1.505      0.132      -0.157       1.194\n",
       "====================================================================================\n",
       "\"\"\""
      ]
     },
     "execution_count": 15,
     "metadata": {},
     "output_type": "execute_result"
    }
   ],
   "source": [
    "# create a summary table with statsmodels logistic regression\n",
    "model_log_sm = sm.Logit(y_train, X_train).fit()\n",
    "model_log_sm.summary()"
   ]
  },
  {
   "cell_type": "code",
   "execution_count": 16,
   "metadata": {},
   "outputs": [
    {
     "data": {
      "text/plain": [
       "0.6770833333333335"
      ]
     },
     "execution_count": 16,
     "metadata": {},
     "output_type": "execute_result"
    }
   ],
   "source": [
    "# predict the probability of outcome, and then round it to produce outcome\n",
    "pred_log_sm = list(map(round, model_log_sm.predict(X_test)))\n",
    "# evaluate the model\n",
    "metrics.roc_auc_score(y_test, pred_log_sm)"
   ]
  },
  {
   "cell_type": "markdown",
   "metadata": {},
   "source": [
    "#### Hyperparameters tunning logistic regression model"
   ]
  },
  {
   "cell_type": "code",
   "execution_count": 17,
   "metadata": {},
   "outputs": [],
   "source": [
    "# define hyperparameter grid and initialize grid search\n",
    "params_log = {\n",
    "    'penalty':['l1', 'l2', 'none', 'elasticnet'],\n",
    "    'C':[0.000001, 0.00001, 0.0001, 0.001, 0.1, 1.0]\n",
    "}\n",
    "log_search = GridSearchCV(model_log, param_grid=params_log, cv=5, n_jobs=-1)"
   ]
  },
  {
   "cell_type": "code",
   "execution_count": 18,
   "metadata": {},
   "outputs": [
    {
     "data": {
      "text/plain": [
       "GridSearchCV(cv=5, error_score=nan,\n",
       "             estimator=LogisticRegression(C=1.0, class_weight=None, dual=False,\n",
       "                                          fit_intercept=True,\n",
       "                                          intercept_scaling=1, l1_ratio=None,\n",
       "                                          max_iter=100, multi_class='auto',\n",
       "                                          n_jobs=None, penalty='l2',\n",
       "                                          random_state=None, solver='lbfgs',\n",
       "                                          tol=0.0001, verbose=0,\n",
       "                                          warm_start=False),\n",
       "             iid='deprecated', n_jobs=-1,\n",
       "             param_grid={'C': [1e-06, 1e-05, 0.0001, 0.001, 0.1, 1.0],\n",
       "                         'penalty': ['l1', 'l2', 'none', 'elasticnet']},\n",
       "             pre_dispatch='2*n_jobs', refit=True, return_train_score=False,\n",
       "             scoring=None, verbose=0)"
      ]
     },
     "execution_count": 18,
     "metadata": {},
     "output_type": "execute_result"
    }
   ],
   "source": [
    "# fit the search object to the training data\n",
    "log_search.fit(X_train, y_train)"
   ]
  },
  {
   "cell_type": "code",
   "execution_count": 19,
   "metadata": {},
   "outputs": [
    {
     "data": {
      "text/plain": [
       "{'C': 0.1, 'penalty': 'l2'}"
      ]
     },
     "execution_count": 19,
     "metadata": {},
     "output_type": "execute_result"
    }
   ],
   "source": [
    "# examine best parameters\n",
    "log_search.best_params_"
   ]
  },
  {
   "cell_type": "markdown",
   "metadata": {},
   "source": [
    "#### Creating logistic regression model with tunned hyperparameters"
   ]
  },
  {
   "cell_type": "code",
   "execution_count": 20,
   "metadata": {},
   "outputs": [],
   "source": [
    "# unpack best params for best model\n",
    "C, pen = log_search.best_params_.values()"
   ]
  },
  {
   "cell_type": "code",
   "execution_count": 21,
   "metadata": {},
   "outputs": [
    {
     "data": {
      "text/plain": [
       "0.6856617647058824"
      ]
     },
     "execution_count": 21,
     "metadata": {},
     "output_type": "execute_result"
    }
   ],
   "source": [
    "# build model according to the best parameters and evaluate performance\n",
    "model_log = LogisticRegression(penalty=pen, C=C)\n",
    "model_log.fit(X_train, y_train)\n",
    "pred_log = model_log.predict(X_test)\n",
    "log_score = metrics.roc_auc_score(y_test, pred_log)\n",
    "log_score"
   ]
  },
  {
   "cell_type": "markdown",
   "metadata": {},
   "source": [
    "### Gradient boost model with XGboost"
   ]
  },
  {
   "cell_type": "code",
   "execution_count": 22,
   "metadata": {},
   "outputs": [
    {
     "data": {
      "text/plain": [
       "0.6464460784313726"
      ]
     },
     "execution_count": 22,
     "metadata": {},
     "output_type": "execute_result"
    }
   ],
   "source": [
    "# standard gradient boosting model with XGboost\n",
    "model_XG = xgb.XGBClassifier()\n",
    "model_XG.fit(X_train, y_train)\n",
    "pred_XG = model_XG.predict(X_test)\n",
    "metrics.roc_auc_score(y_test, pred_XG)"
   ]
  },
  {
   "cell_type": "markdown",
   "metadata": {},
   "source": [
    "#### hyperparameter tunning for gradient boost model"
   ]
  },
  {
   "cell_type": "code",
   "execution_count": 23,
   "metadata": {},
   "outputs": [],
   "source": [
    "# create d-matrix\n",
    "dtrain = xgb.DMatrix(data=X_train, label=y_train)\n",
    "dtext = xgb.DMatrix(data=X_test, label=y_test)"
   ]
  },
  {
   "cell_type": "code",
   "execution_count": 24,
   "metadata": {},
   "outputs": [],
   "source": [
    "params_XG = {\n",
    "    'colsample_bytree':[0.4, 0.6, 0.8, 1.0],\n",
    "    'learning_rate':[0.1, 0.01, 0.001, 0.0001],\n",
    "    'max_depth':[5, 10, 15, None],\n",
    "    'subsample':[0.4, 0.6, 0.8, 1.0],\n",
    "}\n",
    "search_XG = RandomizedSearchCV(model_XG, param_distributions=params_XG, cv=5, n_jobs=-1)"
   ]
  },
  {
   "cell_type": "code",
   "execution_count": 25,
   "metadata": {},
   "outputs": [
    {
     "data": {
      "text/plain": [
       "RandomizedSearchCV(cv=5, error_score=nan,\n",
       "                   estimator=XGBClassifier(base_score=0.5, booster='gbtree',\n",
       "                                           colsample_bylevel=1,\n",
       "                                           colsample_bynode=1,\n",
       "                                           colsample_bytree=1, gamma=0,\n",
       "                                           gpu_id=-1, importance_type='gain',\n",
       "                                           interaction_constraints='',\n",
       "                                           learning_rate=0.300000012,\n",
       "                                           max_delta_step=0, max_depth=6,\n",
       "                                           min_child_weight=1, missing=nan,\n",
       "                                           monotone_constraints='()',\n",
       "                                           n_estimators=100...\n",
       "                                           subsample=1, tree_method='exact',\n",
       "                                           validate_parameters=1,\n",
       "                                           verbosity=None),\n",
       "                   iid='deprecated', n_iter=10, n_jobs=-1,\n",
       "                   param_distributions={'colsample_bytree': [0.4, 0.6, 0.8,\n",
       "                                                             1.0],\n",
       "                                        'learning_rate': [0.1, 0.01, 0.001,\n",
       "                                                          0.0001],\n",
       "                                        'max_depth': [5, 10, 15, None],\n",
       "                                        'subsample': [0.4, 0.6, 0.8, 1.0]},\n",
       "                   pre_dispatch='2*n_jobs', random_state=None, refit=True,\n",
       "                   return_train_score=False, scoring=None, verbose=0)"
      ]
     },
     "execution_count": 25,
     "metadata": {},
     "output_type": "execute_result"
    }
   ],
   "source": [
    "# fit the search object to the training data\n",
    "search_XG.fit(X_train, y_train)"
   ]
  },
  {
   "cell_type": "code",
   "execution_count": 26,
   "metadata": {},
   "outputs": [
    {
     "data": {
      "text/plain": [
       "{'subsample': 0.6,\n",
       " 'max_depth': 10,\n",
       " 'learning_rate': 0.1,\n",
       " 'colsample_bytree': 0.8}"
      ]
     },
     "execution_count": 26,
     "metadata": {},
     "output_type": "execute_result"
    }
   ],
   "source": [
    "# observe the best hyperparameters\n",
    "search_XG.best_params_"
   ]
  },
  {
   "cell_type": "markdown",
   "metadata": {},
   "source": [
    "#### Build the gradient boost model with best hyperparameters"
   ]
  },
  {
   "cell_type": "code",
   "execution_count": 27,
   "metadata": {},
   "outputs": [],
   "source": [
    "# define the best hyperparameters\n",
    "subs, max_dep, eta, cols = search_XG.best_params_.values()"
   ]
  },
  {
   "cell_type": "code",
   "execution_count": 28,
   "metadata": {},
   "outputs": [
    {
     "data": {
      "text/plain": [
       "0.6250000000000001"
      ]
     },
     "execution_count": 28,
     "metadata": {},
     "output_type": "execute_result"
    }
   ],
   "source": [
    "# build and evaluat the gradient boost model with best hyperparameters\n",
    "model_XG = xgb.XGBClassifier(\n",
    "    subsample=subs, \n",
    "    max_depth=max_dep, \n",
    "    learning_rate=eta,\n",
    "    colsample_bytree=cols\n",
    ")\n",
    "model_XG.fit(X_train,y_train)\n",
    "pred_XG = model_XG.predict(X_test)\n",
    "XG_score = metrics.roc_auc_score(y_test, pred_XG)\n",
    "XG_score"
   ]
  },
  {
   "cell_type": "markdown",
   "metadata": {},
   "source": [
    "### Comparing tunned models"
   ]
  },
  {
   "cell_type": "markdown",
   "metadata": {},
   "source": [
    "#### Cross validation scores on training data"
   ]
  },
  {
   "cell_type": "code",
   "execution_count": 29,
   "metadata": {
    "scrolled": false
   },
   "outputs": [
    {
     "data": {
      "text/html": [
       "<div>\n",
       "<style scoped>\n",
       "    .dataframe tbody tr th:only-of-type {\n",
       "        vertical-align: middle;\n",
       "    }\n",
       "\n",
       "    .dataframe tbody tr th {\n",
       "        vertical-align: top;\n",
       "    }\n",
       "\n",
       "    .dataframe thead th {\n",
       "        text-align: right;\n",
       "    }\n",
       "</style>\n",
       "<table border=\"1\" class=\"dataframe\">\n",
       "  <thead>\n",
       "    <tr style=\"text-align: right;\">\n",
       "      <th></th>\n",
       "      <th>model</th>\n",
       "      <th>training score</th>\n",
       "    </tr>\n",
       "  </thead>\n",
       "  <tbody>\n",
       "    <tr>\n",
       "      <th>0</th>\n",
       "      <td>random forest</td>\n",
       "      <td>0.79533</td>\n",
       "    </tr>\n",
       "    <tr>\n",
       "      <th>1</th>\n",
       "      <td>logistic regression</td>\n",
       "      <td>0.810844</td>\n",
       "    </tr>\n",
       "    <tr>\n",
       "      <th>2</th>\n",
       "      <td>gradient boosting</td>\n",
       "      <td>0.779065</td>\n",
       "    </tr>\n",
       "  </tbody>\n",
       "</table>\n",
       "</div>"
      ],
      "text/plain": [
       "                 model training score\n",
       "0        random forest        0.79533\n",
       "1  logistic regression       0.810844\n",
       "2    gradient boosting       0.779065"
      ]
     },
     "execution_count": 29,
     "metadata": {},
     "output_type": "execute_result"
    }
   ],
   "source": [
    "# examine the cross validation roc_auc score on the training data\n",
    "cv_scores_rf = cross_val_score(model_rf, X_train, y_train, cv=5, scoring='roc_auc').mean()\n",
    "cv_scores_log = cross_val_score(model_log, X_train, y_train, cv=5, scoring='roc_auc').mean()\n",
    "cv_scores_XG = cross_val_score(model_XG, X_train, y_train, cv=5, scoring='roc_auc').mean()\n",
    "models = ['random forest', 'logistic regression', 'gradient boosting']\n",
    "scores = [cv_scores_rf, cv_scores_log, cv_scores_XG]\n",
    "scores_comp = pd.DataFrame([models, scores]).T\n",
    "scores_comp.columns = ['model', 'training score']\n",
    "scores_comp"
   ]
  },
  {
   "cell_type": "markdown",
   "metadata": {},
   "source": [
    "#### ROC_AUC scores on test data"
   ]
  },
  {
   "cell_type": "code",
   "execution_count": 30,
   "metadata": {},
   "outputs": [
    {
     "data": {
      "text/html": [
       "<div>\n",
       "<style scoped>\n",
       "    .dataframe tbody tr th:only-of-type {\n",
       "        vertical-align: middle;\n",
       "    }\n",
       "\n",
       "    .dataframe tbody tr th {\n",
       "        vertical-align: top;\n",
       "    }\n",
       "\n",
       "    .dataframe thead th {\n",
       "        text-align: right;\n",
       "    }\n",
       "</style>\n",
       "<table border=\"1\" class=\"dataframe\">\n",
       "  <thead>\n",
       "    <tr style=\"text-align: right;\">\n",
       "      <th></th>\n",
       "      <th>model</th>\n",
       "      <th>test score</th>\n",
       "    </tr>\n",
       "  </thead>\n",
       "  <tbody>\n",
       "    <tr>\n",
       "      <th>0</th>\n",
       "      <td>random forest</td>\n",
       "      <td>0.636642</td>\n",
       "    </tr>\n",
       "    <tr>\n",
       "      <th>1</th>\n",
       "      <td>logistic regression</td>\n",
       "      <td>0.685662</td>\n",
       "    </tr>\n",
       "    <tr>\n",
       "      <th>2</th>\n",
       "      <td>gradient boosting</td>\n",
       "      <td>0.625</td>\n",
       "    </tr>\n",
       "  </tbody>\n",
       "</table>\n",
       "</div>"
      ],
      "text/plain": [
       "                 model test score\n",
       "0        random forest   0.636642\n",
       "1  logistic regression   0.685662\n",
       "2    gradient boosting      0.625"
      ]
     },
     "execution_count": 30,
     "metadata": {},
     "output_type": "execute_result"
    }
   ],
   "source": [
    "# examine the scores from previous sections for each model\n",
    "scores_t = [rf_score, log_score, XG_score]\n",
    "scores_comp_t = pd.DataFrame([models, scores_t]).T\n",
    "scores_comp_t.columns = ['model', 'test score']\n",
    "scores_comp_t\n"
   ]
  },
  {
   "cell_type": "markdown",
   "metadata": {},
   "source": [
    "#### ROC curves on test data"
   ]
  },
  {
   "cell_type": "code",
   "execution_count": 31,
   "metadata": {},
   "outputs": [],
   "source": [
    "# define true positive and false positive rates for each model\n",
    "rf_pred_prob = model_rf.predict_proba(X_test)[:,1]\n",
    "fpr_rf, tpr_rf, thresholds_rf = metrics.roc_curve(y_test, rf_pred_prob)\n",
    "log_pred_prob = model_log.predict_proba(X_test)[:,1]\n",
    "fpr_log, tpr_log, thresholds_log = metrics.roc_curve(y_test, log_pred_prob)\n",
    "XG_pred_prob = model_XG.predict_proba(X_test)[:,1]\n",
    "fpr_XG, tpr_XG, thresholds_XG = metrics.roc_curve(y_test, XG_pred_prob)"
   ]
  },
  {
   "cell_type": "code",
   "execution_count": 32,
   "metadata": {
    "scrolled": true
   },
   "outputs": [
    {
     "data": {
      "text/plain": [
       "<matplotlib.legend.Legend at 0x192e0d38a48>"
      ]
     },
     "execution_count": 32,
     "metadata": {},
     "output_type": "execute_result"
    },
    {
     "data": {
      "image/png": "[encoded data removed]",
      "text/plain": [
       "<Figure size 720x576 with 1 Axes>"
      ]
     },
     "metadata": {
      "needs_background": "light"
     },
     "output_type": "display_data"
    }
   ],
   "source": [
    "# plot the ROC curves on the same graph\n",
    "plt.figure(figsize=(10,8))\n",
    "plt.plot([0,1], [0,1])\n",
    "plt.plot(fpr_log, tpr_log, label='Logistic Regression')\n",
    "plt.plot(fpr_rf, tpr_rf, label='Random Forest')\n",
    "plt.plot(fpr_XG, tpr_XG, label='Gradient Boost')\n",
    "plt.xlabel('False Positive Rate')\n",
    "plt.ylabel('True Positive Rate')\n",
    "plt.title('ROC Curves for different models')\n",
    "plt.legend()"
   ]
  },
  {
   "cell_type": "markdown",
   "metadata": {},
   "source": [
    "#### Plot the confusion matricies for all 3 models"
   ]
  },
  {
   "cell_type": "code",
   "execution_count": 33,
   "metadata": {
    "scrolled": true
   },
   "outputs": [
    {
     "data": {
      "image/png": "[encoded data removed]",
      "text/plain": [
       "<Figure size 360x864 with 6 Axes>"
      ]
     },
     "metadata": {
      "needs_background": "light"
     },
     "output_type": "display_data"
    }
   ],
   "source": [
    "# plot the confusion matricies in a set of subplots\n",
    "fig, (ax1, ax2, ax3) = plt.subplots(3,1,figsize=(5,12))\n",
    "metrics.plot_confusion_matrix(model_rf, X_test, y_test, normalize='all', cmap='Blues', ax=ax1)\n",
    "metrics.plot_confusion_matrix(model_log, X_test, y_test, normalize='all', cmap='Blues', ax=ax2)\n",
    "metrics.plot_confusion_matrix(model_XG, X_test, y_test, normalize='all', cmap='Blues', ax=ax3)\n",
    "ax1.set_title('random forest')\n",
    "ax2.set_title('logistic regression')\n",
    "ax3.set_title('gradient boosting')\n",
    "fig.tight_layout()"
   ]
  },
  {
   "cell_type": "markdown",
   "metadata": {},
   "source": [
    "#### Classification reports for all 3 models"
   ]
  },
  {
   "cell_type": "code",
   "execution_count": 34,
   "metadata": {},
   "outputs": [],
   "source": [
    "# construct a data frame of classification report for the random forest model\n",
    "report_rf_df = pd.DataFrame(metrics.classification_report(y_test, pred_rf, output_dict=True))\n",
    "# construct a data frame of classification report of logistic regression model\n",
    "report_log_df = pd.DataFrame(metrics.classification_report(y_test, pred_log, output_dict=True))\n",
    "# construct a data frame of classification report of gradient boost model\n",
    "report_XG_df = pd.DataFrame(metrics.classification_report(y_test, pred_XG, output_dict=True))\n"
   ]
  },
  {
   "cell_type": "code",
   "execution_count": 35,
   "metadata": {
    "scrolled": true
   },
   "outputs": [
    {
     "data": {
      "image/png": "[encoded data removed]",
      "text/plain": [
       "<Figure size 1080x360 with 3 Axes>"
      ]
     },
     "metadata": {
      "needs_background": "light"
     },
     "output_type": "display_data"
    }
   ],
   "source": [
    "# label all classification reports and put them in a set of subplots\n",
    "fig, (ax1, ax2, ax3) = plt.subplots(3,1, figsize=(15, 5))\n",
    "fig.tight_layout()\n",
    "table1 = ax1.table(cellText=report_rf_df.values,\n",
    "          rowLabels=report_rf_df.index, \n",
    "          colLabels=report_rf_df.columns,\n",
    "          loc=\"center\"\n",
    "         )\n",
    "ax1.axis('off')\n",
    "ax1.set_title('random forest classification report')\n",
    "table1.set_fontsize(12)\n",
    "table2 = ax2.table(cellText=report_log_df.values,\n",
    "                  rowLabels=report_log_df.index,\n",
    "                  colLabels=report_log_df.columns,\n",
    "                  loc='center'\n",
    "                  )\n",
    "ax2.axis('off')\n",
    "ax2.set_title('logistic regression classification report')\n",
    "table2.set_fontsize(12)\n",
    "table3 = ax3.table(cellText=report_XG_df.values,\n",
    "                  rowLabels=report_XG_df.index,\n",
    "                  colLabels=report_XG_df.columns,\n",
    "                  loc='center'\n",
    "                  )\n",
    "ax3.axis('off')\n",
    "ax3.set_title('gradient boosting classification report')\n",
    "table3.set_fontsize(12)"
   ]
  },
  {
   "cell_type": "markdown",
   "metadata": {},
   "source": [
    "#### Feature importance according to each model"
   ]
  },
  {
   "cell_type": "code",
   "execution_count": 36,
   "metadata": {
    "scrolled": true
   },
   "outputs": [
    {
     "data": {
      "text/html": [
       "<div>\n",
       "<style scoped>\n",
       "    .dataframe tbody tr th:only-of-type {\n",
       "        vertical-align: middle;\n",
       "    }\n",
       "\n",
       "    .dataframe tbody tr th {\n",
       "        vertical-align: top;\n",
       "    }\n",
       "\n",
       "    .dataframe thead th {\n",
       "        text-align: right;\n",
       "    }\n",
       "</style>\n",
       "<table border=\"1\" class=\"dataframe\">\n",
       "  <thead>\n",
       "    <tr style=\"text-align: right;\">\n",
       "      <th></th>\n",
       "      <th>feature</th>\n",
       "      <th>importance</th>\n",
       "    </tr>\n",
       "  </thead>\n",
       "  <tbody>\n",
       "    <tr>\n",
       "      <th>0</th>\n",
       "      <td>p_agg_aggressive</td>\n",
       "      <td>0.215289</td>\n",
       "    </tr>\n",
       "    <tr>\n",
       "      <th>5</th>\n",
       "      <td>pot_size_large</td>\n",
       "      <td>0.191247</td>\n",
       "    </tr>\n",
       "    <tr>\n",
       "      <th>6</th>\n",
       "      <td>post_num_many</td>\n",
       "      <td>0.17776</td>\n",
       "    </tr>\n",
       "    <tr>\n",
       "      <th>1</th>\n",
       "      <td>f_agg_aggressive</td>\n",
       "      <td>0.16931</td>\n",
       "    </tr>\n",
       "    <tr>\n",
       "      <th>2</th>\n",
       "      <td>t_agg_aggressive</td>\n",
       "      <td>0.105425</td>\n",
       "    </tr>\n",
       "    <tr>\n",
       "      <th>4</th>\n",
       "      <td>vpip_tight</td>\n",
       "      <td>0.0972924</td>\n",
       "    </tr>\n",
       "    <tr>\n",
       "      <th>3</th>\n",
       "      <td>r_agg_aggressive</td>\n",
       "      <td>0.0436764</td>\n",
       "    </tr>\n",
       "  </tbody>\n",
       "</table>\n",
       "</div>"
      ],
      "text/plain": [
       "            feature importance\n",
       "0  p_agg_aggressive   0.215289\n",
       "5    pot_size_large   0.191247\n",
       "6     post_num_many    0.17776\n",
       "1  f_agg_aggressive    0.16931\n",
       "2  t_agg_aggressive   0.105425\n",
       "4        vpip_tight  0.0972924\n",
       "3  r_agg_aggressive  0.0436764"
      ]
     },
     "execution_count": 36,
     "metadata": {},
     "output_type": "execute_result"
    }
   ],
   "source": [
    "# feature importance according to random forest model\n",
    "rf_feature_imp = pd.DataFrame([X.columns, model_rf.feature_importances_]).T\n",
    "rf_feature_imp.columns = ['feature', 'importance']\n",
    "rf_feature_imp = rf_feature_imp.sort_values('importance', ascending=False)\n",
    "rf_feature_imp"
   ]
  },
  {
   "cell_type": "code",
   "execution_count": 37,
   "metadata": {},
   "outputs": [
    {
     "data": {
      "text/plain": [
       "Text(0, 0.5, 'feature')"
      ]
     },
     "execution_count": 37,
     "metadata": {},
     "output_type": "execute_result"
    },
    {
     "data": {
      "image/png": "[encoded data removed]",
      "text/plain": [
       "<Figure size 720x576 with 1 Axes>"
      ]
     },
     "metadata": {
      "needs_background": "light"
     },
     "output_type": "display_data"
    }
   ],
   "source": [
    "# plot feature importance according to the random forest model\n",
    "plt.figure(figsize=(10,8))\n",
    "plt.barh(rf_feature_imp['feature'], rf_feature_imp['importance'])\n",
    "plt.title('random forest feature importance')\n",
    "plt.xlabel('importance')\n",
    "plt.ylabel('feature')"
   ]
  },
  {
   "cell_type": "code",
   "execution_count": 38,
   "metadata": {},
   "outputs": [
    {
     "data": {
      "text/html": [
       "<div>\n",
       "<style scoped>\n",
       "    .dataframe tbody tr th:only-of-type {\n",
       "        vertical-align: middle;\n",
       "    }\n",
       "\n",
       "    .dataframe tbody tr th {\n",
       "        vertical-align: top;\n",
       "    }\n",
       "\n",
       "    .dataframe thead th {\n",
       "        text-align: right;\n",
       "    }\n",
       "</style>\n",
       "<table border=\"1\" class=\"dataframe\">\n",
       "  <thead>\n",
       "    <tr style=\"text-align: right;\">\n",
       "      <th></th>\n",
       "      <th>feature</th>\n",
       "      <th>coef</th>\n",
       "    </tr>\n",
       "  </thead>\n",
       "  <tbody>\n",
       "    <tr>\n",
       "      <th>5</th>\n",
       "      <td>pot_size_large</td>\n",
       "      <td>0.670186</td>\n",
       "    </tr>\n",
       "    <tr>\n",
       "      <th>6</th>\n",
       "      <td>post_num_many</td>\n",
       "      <td>0.499743</td>\n",
       "    </tr>\n",
       "    <tr>\n",
       "      <th>4</th>\n",
       "      <td>vpip_tight</td>\n",
       "      <td>0.397298</td>\n",
       "    </tr>\n",
       "    <tr>\n",
       "      <th>3</th>\n",
       "      <td>r_agg_aggressive</td>\n",
       "      <td>-0.00548926</td>\n",
       "    </tr>\n",
       "    <tr>\n",
       "      <th>2</th>\n",
       "      <td>t_agg_aggressive</td>\n",
       "      <td>-0.394308</td>\n",
       "    </tr>\n",
       "    <tr>\n",
       "      <th>1</th>\n",
       "      <td>f_agg_aggressive</td>\n",
       "      <td>-0.545918</td>\n",
       "    </tr>\n",
       "    <tr>\n",
       "      <th>0</th>\n",
       "      <td>p_agg_aggressive</td>\n",
       "      <td>-0.658766</td>\n",
       "    </tr>\n",
       "  </tbody>\n",
       "</table>\n",
       "</div>"
      ],
      "text/plain": [
       "            feature        coef\n",
       "5    pot_size_large    0.670186\n",
       "6     post_num_many    0.499743\n",
       "4        vpip_tight    0.397298\n",
       "3  r_agg_aggressive -0.00548926\n",
       "2  t_agg_aggressive   -0.394308\n",
       "1  f_agg_aggressive   -0.545918\n",
       "0  p_agg_aggressive   -0.658766"
      ]
     },
     "execution_count": 38,
     "metadata": {},
     "output_type": "execute_result"
    }
   ],
   "source": [
    "# feature importance of logistic regression model, represented by model coefficients\n",
    "log_coef_df = pd.DataFrame([X.columns, model_log.coef_[0]]).T\n",
    "log_coef_df.columns=['feature', 'coef']\n",
    "log_coef_df = log_coef_df.sort_values('coef', ascending=False)\n",
    "log_coef_df"
   ]
  },
  {
   "cell_type": "code",
   "execution_count": 39,
   "metadata": {
    "scrolled": true
   },
   "outputs": [
    {
     "data": {
      "text/plain": [
       "Text(0, 0.5, 'features')"
      ]
     },
     "execution_count": 39,
     "metadata": {},
     "output_type": "execute_result"
    },
    {
     "data": {
      "image/png": "[encoded data removed]",
      "text/plain": [
       "<Figure size 720x576 with 1 Axes>"
      ]
     },
     "metadata": {
      "needs_background": "light"
     },
     "output_type": "display_data"
    }
   ],
   "source": [
    "# plot feature coefficients according to the logistic regression model\n",
    "plt.figure(figsize=(10,8))\n",
    "plt.barh(log_coef_df['feature'], log_coef_df['coef'])\n",
    "plt.title('logistic regression feature coefficients')\n",
    "plt.xlabel('effect on outcome')\n",
    "plt.ylabel('features')\n"
   ]
  },
  {
   "cell_type": "code",
   "execution_count": 40,
   "metadata": {
    "scrolled": true
   },
   "outputs": [
    {
     "data": {
      "text/html": [
       "<div>\n",
       "<style scoped>\n",
       "    .dataframe tbody tr th:only-of-type {\n",
       "        vertical-align: middle;\n",
       "    }\n",
       "\n",
       "    .dataframe tbody tr th {\n",
       "        vertical-align: top;\n",
       "    }\n",
       "\n",
       "    .dataframe thead th {\n",
       "        text-align: right;\n",
       "    }\n",
       "</style>\n",
       "<table border=\"1\" class=\"dataframe\">\n",
       "  <thead>\n",
       "    <tr style=\"text-align: right;\">\n",
       "      <th></th>\n",
       "      <th>feature</th>\n",
       "      <th>importance</th>\n",
       "    </tr>\n",
       "  </thead>\n",
       "  <tbody>\n",
       "    <tr>\n",
       "      <th>0</th>\n",
       "      <td>p_agg_aggressive</td>\n",
       "      <td>0.206404</td>\n",
       "    </tr>\n",
       "    <tr>\n",
       "      <th>5</th>\n",
       "      <td>pot_size_large</td>\n",
       "      <td>0.16428</td>\n",
       "    </tr>\n",
       "    <tr>\n",
       "      <th>6</th>\n",
       "      <td>post_num_many</td>\n",
       "      <td>0.156685</td>\n",
       "    </tr>\n",
       "    <tr>\n",
       "      <th>2</th>\n",
       "      <td>t_agg_aggressive</td>\n",
       "      <td>0.138825</td>\n",
       "    </tr>\n",
       "    <tr>\n",
       "      <th>1</th>\n",
       "      <td>f_agg_aggressive</td>\n",
       "      <td>0.136689</td>\n",
       "    </tr>\n",
       "    <tr>\n",
       "      <th>4</th>\n",
       "      <td>vpip_tight</td>\n",
       "      <td>0.112426</td>\n",
       "    </tr>\n",
       "    <tr>\n",
       "      <th>3</th>\n",
       "      <td>r_agg_aggressive</td>\n",
       "      <td>0.0846902</td>\n",
       "    </tr>\n",
       "  </tbody>\n",
       "</table>\n",
       "</div>"
      ],
      "text/plain": [
       "            feature importance\n",
       "0  p_agg_aggressive   0.206404\n",
       "5    pot_size_large    0.16428\n",
       "6     post_num_many   0.156685\n",
       "2  t_agg_aggressive   0.138825\n",
       "1  f_agg_aggressive   0.136689\n",
       "4        vpip_tight   0.112426\n",
       "3  r_agg_aggressive  0.0846902"
      ]
     },
     "execution_count": 40,
     "metadata": {},
     "output_type": "execute_result"
    }
   ],
   "source": [
    "# feature importance of gradient boosting model\n",
    "XG_feature_imp = pd.DataFrame([X_train.columns,model_XG.feature_importances_]).T\n",
    "XG_feature_imp.columns = ['feature', 'importance']\n",
    "XG_feature_imp = XG_feature_imp.sort_values('importance', ascending=False)\n",
    "XG_feature_imp"
   ]
  },
  {
   "cell_type": "code",
   "execution_count": 41,
   "metadata": {
    "scrolled": true
   },
   "outputs": [
    {
     "data": {
      "text/plain": [
       "Text(0, 0.5, 'feature')"
      ]
     },
     "execution_count": 41,
     "metadata": {},
     "output_type": "execute_result"
    },
    {
     "data": {
      "image/png": "[encoded data removed]",
      "text/plain": [
       "<Figure size 720x576 with 1 Axes>"
      ]
     },
     "metadata": {
      "needs_background": "light"
     },
     "output_type": "display_data"
    }
   ],
   "source": [
    "# plot feature importance according to the gradient boosting model\n",
    "plt.figure(figsize=(10,8))\n",
    "plt.barh(XG_feature_imp['feature'], XG_feature_imp['importance'])\n",
    "plt.title('gradient boosting feature importance')\n",
    "plt.xlabel('importance')\n",
    "plt.ylabel('feature')"
   ]
  },
  {
   "cell_type": "markdown",
   "metadata": {},
   "source": [
    "By comparing all 3 models, the logistic regression model has the best performance on both the training and testing data sets"
   ]
  },
  {
   "cell_type": "markdown",
   "metadata": {},
   "source": [
    "### Regularize the features to reduce the complexity of the logistic regression model."
   ]
  },
  {
   "cell_type": "code",
   "execution_count": 42,
   "metadata": {},
   "outputs": [
    {
     "data": {
      "text/plain": [
       "array([ True,  True,  True, False,  True,  True,  True])"
      ]
     },
     "execution_count": 42,
     "metadata": {},
     "output_type": "execute_result"
    }
   ],
   "source": [
    "# initialize regularizer with the logisticregression model\n",
    "reg = SelectFromModel(LogisticRegression(penalty='l1', C=C, solver='liblinear'))\n",
    "reg.fit(X_train, y_train)\n",
    "# observe the feature mask\n",
    "feat_mask = reg.get_support()\n",
    "feat_mask"
   ]
  },
  {
   "cell_type": "code",
   "execution_count": 43,
   "metadata": {},
   "outputs": [
    {
     "data": {
      "text/plain": [
       "Index(['p_agg_aggressive', 'f_agg_aggressive', 't_agg_aggressive',\n",
       "       'vpip_tight', 'pot_size_large', 'post_num_many'],\n",
       "      dtype='object')"
      ]
     },
     "execution_count": 43,
     "metadata": {},
     "output_type": "execute_result"
    }
   ],
   "source": [
    "# observe the remaining features\n",
    "feat = X_train.columns[feat_mask]\n",
    "feat"
   ]
  },
  {
   "cell_type": "markdown",
   "metadata": {},
   "source": [
    "The r_agg_aggressive column was eliminated by the regularizer, which makes sense because it was the least impactful according to the feature importance from all 3 models"
   ]
  },
  {
   "cell_type": "markdown",
   "metadata": {},
   "source": [
    "The above regularization is done with C=0.1, which was found to be optimal from the earlier grid search. I will observe the feature importances given different values of C."
   ]
  },
  {
   "cell_type": "code",
   "execution_count": 44,
   "metadata": {},
   "outputs": [
    {
     "name": "stdout",
     "output_type": "stream",
     "text": [
      "when C = 0.05, ['f_agg_aggressive', 't_agg_aggressive', 'r_agg_aggressive', 'vpip_tight', 'pot_size_large'] are eliminated from the X data frames\n",
      "when C = 0.06, ['f_agg_aggressive', 't_agg_aggressive', 'r_agg_aggressive', 'vpip_tight', 'pot_size_large'] are eliminated from the X data frames\n",
      "when C = 0.07, ['t_agg_aggressive', 'r_agg_aggressive', 'vpip_tight'] are eliminated from the X data frames\n",
      "when C = 0.08, ['t_agg_aggressive', 'r_agg_aggressive'] are eliminated from the X data frames\n",
      "when C = 0.09, ['t_agg_aggressive', 'r_agg_aggressive'] are eliminated from the X data frames\n",
      "when C = 0.1, ['r_agg_aggressive'] are eliminated from the X data frames\n"
     ]
    }
   ],
   "source": [
    "C_vals = [0.05, 0.06, 0.07, 0.08, 0.09, 0.1]\n",
    "for c in C_vals:\n",
    "    reg = SelectFromModel(LogisticRegression(penalty='l1', C=c, solver='liblinear'))\n",
    "    reg.fit(X_train, y_train)\n",
    "    feat_el = X_train.columns[~reg.get_support()]\n",
    "    print(f'when C = {c}, {list(feat_el)} are eliminated from the X data frames')"
   ]
  },
  {
   "cell_type": "code",
   "execution_count": 45,
   "metadata": {},
   "outputs": [],
   "source": [
    "# update X_train and X_test with the new features when C = 0.1\n",
    "X_train_reg = X_train[feat]\n",
    "X_test_reg = X_test[feat]"
   ]
  },
  {
   "cell_type": "code",
   "execution_count": 46,
   "metadata": {},
   "outputs": [
    {
     "data": {
      "text/plain": [
       "(0.6856617647058824, 0.6868686868686869)"
      ]
     },
     "execution_count": 46,
     "metadata": {},
     "output_type": "execute_result"
    }
   ],
   "source": [
    "# retrain and reevaluate the logistic regression model with the updated dataframes\n",
    "model_log = LogisticRegression(penalty=pen, C=C)\n",
    "model_log.fit(X_train_reg, y_train)\n",
    "pred_log = model_log.predict(X_test_reg)\n",
    "log_score = metrics.roc_auc_score(y_test, pred_log)\n",
    "log_accuracy = metrics.accuracy_score(y_test, pred_log)\n",
    "log_score, log_accuracy"
   ]
  },
  {
   "cell_type": "code",
   "execution_count": 47,
   "metadata": {},
   "outputs": [
    {
     "name": "stdout",
     "output_type": "stream",
     "text": [
      "Optimization terminated successfully.\n",
      "         Current function value: 0.508094\n",
      "         Iterations 6\n"
     ]
    },
    {
     "data": {
      "text/html": [
       "<table class=\"simpletable\">\n",
       "<caption>Logit Regression Results</caption>\n",
       "<tr>\n",
       "  <th>Dep. Variable:</th>     <td>win_per_hand</td>   <th>  No. Observations:  </th>  <td>   230</td>  \n",
       "</tr>\n",
       "<tr>\n",
       "  <th>Model:</th>                 <td>Logit</td>      <th>  Df Residuals:      </th>  <td>   224</td>  \n",
       "</tr>\n",
       "<tr>\n",
       "  <th>Method:</th>                 <td>MLE</td>       <th>  Df Model:          </th>  <td>     5</td>  \n",
       "</tr>\n",
       "<tr>\n",
       "  <th>Date:</th>            <td>Thu, 17 Dec 2020</td> <th>  Pseudo R-squ.:     </th>  <td>0.2668</td>  \n",
       "</tr>\n",
       "<tr>\n",
       "  <th>Time:</th>                <td>22:33:34</td>     <th>  Log-Likelihood:    </th> <td> -116.86</td> \n",
       "</tr>\n",
       "<tr>\n",
       "  <th>converged:</th>             <td>True</td>       <th>  LL-Null:           </th> <td> -159.39</td> \n",
       "</tr>\n",
       "<tr>\n",
       "  <th>Covariance Type:</th>     <td>nonrobust</td>    <th>  LLR p-value:       </th> <td>7.331e-17</td>\n",
       "</tr>\n",
       "</table>\n",
       "<table class=\"simpletable\">\n",
       "<tr>\n",
       "          <td></td>            <th>coef</th>     <th>std err</th>      <th>z</th>      <th>P>|z|</th>  <th>[0.025</th>    <th>0.975]</th>  \n",
       "</tr>\n",
       "<tr>\n",
       "  <th>p_agg_aggressive</th> <td>   -1.2945</td> <td>    0.348</td> <td>   -3.715</td> <td> 0.000</td> <td>   -1.977</td> <td>   -0.612</td>\n",
       "</tr>\n",
       "<tr>\n",
       "  <th>f_agg_aggressive</th> <td>   -1.0420</td> <td>    0.359</td> <td>   -2.902</td> <td> 0.004</td> <td>   -1.746</td> <td>   -0.338</td>\n",
       "</tr>\n",
       "<tr>\n",
       "  <th>t_agg_aggressive</th> <td>   -0.6365</td> <td>    0.360</td> <td>   -1.767</td> <td> 0.077</td> <td>   -1.342</td> <td>    0.069</td>\n",
       "</tr>\n",
       "<tr>\n",
       "  <th>vpip_tight</th>       <td>    0.6994</td> <td>    0.310</td> <td>    2.254</td> <td> 0.024</td> <td>    0.091</td> <td>    1.308</td>\n",
       "</tr>\n",
       "<tr>\n",
       "  <th>pot_size_large</th>   <td>    1.5073</td> <td>    0.346</td> <td>    4.351</td> <td> 0.000</td> <td>    0.828</td> <td>    2.186</td>\n",
       "</tr>\n",
       "<tr>\n",
       "  <th>post_num_many</th>    <td>    0.5289</td> <td>    0.343</td> <td>    1.544</td> <td> 0.123</td> <td>   -0.142</td> <td>    1.200</td>\n",
       "</tr>\n",
       "</table>"
      ],
      "text/plain": [
       "<class 'statsmodels.iolib.summary.Summary'>\n",
       "\"\"\"\n",
       "                           Logit Regression Results                           \n",
       "==============================================================================\n",
       "Dep. Variable:           win_per_hand   No. Observations:                  230\n",
       "Model:                          Logit   Df Residuals:                      224\n",
       "Method:                           MLE   Df Model:                            5\n",
       "Date:                Thu, 17 Dec 2020   Pseudo R-squ.:                  0.2668\n",
       "Time:                        22:33:34   Log-Likelihood:                -116.86\n",
       "converged:                       True   LL-Null:                       -159.39\n",
       "Covariance Type:            nonrobust   LLR p-value:                 7.331e-17\n",
       "====================================================================================\n",
       "                       coef    std err          z      P>|z|      [0.025      0.975]\n",
       "------------------------------------------------------------------------------------\n",
       "p_agg_aggressive    -1.2945      0.348     -3.715      0.000      -1.977      -0.612\n",
       "f_agg_aggressive    -1.0420      0.359     -2.902      0.004      -1.746      -0.338\n",
       "t_agg_aggressive    -0.6365      0.360     -1.767      0.077      -1.342       0.069\n",
       "vpip_tight           0.6994      0.310      2.254      0.024       0.091       1.308\n",
       "pot_size_large       1.5073      0.346      4.351      0.000       0.828       2.186\n",
       "post_num_many        0.5289      0.343      1.544      0.123      -0.142       1.200\n",
       "====================================================================================\n",
       "\"\"\""
      ]
     },
     "execution_count": 47,
     "metadata": {},
     "output_type": "execute_result"
    }
   ],
   "source": [
    "# create a summary table with tuned logistic regression\n",
    "model_log_sm_t = sm.Logit(y_train, X_train_reg, C=0.1, penalty='l2').fit()\n",
    "model_log_sm_t.summary()"
   ]
  },
  {
   "cell_type": "markdown",
   "metadata": {},
   "source": [
    "dropping the 'r_agg_aggressive' column didn't affect the performance of the model in any meaningful way"
   ]
  },
  {
   "cell_type": "code",
   "execution_count": 48,
   "metadata": {},
   "outputs": [],
   "source": [
    "# update X_train and X_test with the new features when C = 0.07\n",
    "X_train_reg = X_train.drop(['t_agg_aggressive', 'r_agg_aggressive', 'vpip_tight'], axis=1)\n",
    "X_test_reg = X_test.drop(['t_agg_aggressive', 'r_agg_aggressive', 'vpip_tight'], axis=1)"
   ]
  },
  {
   "cell_type": "code",
   "execution_count": 49,
   "metadata": {},
   "outputs": [
    {
     "data": {
      "text/plain": [
       "(0.6770833333333335, 0.6767676767676768)"
      ]
     },
     "execution_count": 49,
     "metadata": {},
     "output_type": "execute_result"
    }
   ],
   "source": [
    "# retrain and reevaluate the logistic regression model with the updated dataframes\n",
    "model_log = LogisticRegression(penalty=pen, C=C)\n",
    "model_log.fit(X_train_reg, y_train)\n",
    "pred_log = model_log.predict(X_test_reg)\n",
    "log_score = metrics.roc_auc_score(y_test, pred_log)\n",
    "log_accuracy = metrics.accuracy_score(y_test, pred_log)\n",
    "log_score, log_accuracy"
   ]
  },
  {
   "cell_type": "markdown",
   "metadata": {},
   "source": [
    "performance dropped a bit when I dropped 3 columns"
   ]
  },
  {
   "cell_type": "markdown",
   "metadata": {},
   "source": [
    "According to the logistic regression model, an average recreational player should do the following for the best performance:\n",
    "* play more large pots\n",
    "* play in more multiway pots\n",
    "* play less than 30% of hands\n",
    "* play less aggressive post flop on all streets"
   ]
  },
  {
   "cell_type": "code",
   "execution_count": null,
   "metadata": {},
   "outputs": [],
   "source": []
  }
 ],
 "metadata": {
  "kernelspec": {
   "display_name": "Python 3",
   "language": "python",
   "name": "python3"
  },
  "language_info": {
   "codemirror_mode": {
    "name": "ipython",
    "version": 3
   },
   "file_extension": ".py",
   "mimetype": "text/x-python",
   "name": "python",
   "nbconvert_exporter": "python",
   "pygments_lexer": "ipython3",
   "version": "3.7.6"
  }
 },
 "nbformat": 4,
 "nbformat_minor": 4
}
