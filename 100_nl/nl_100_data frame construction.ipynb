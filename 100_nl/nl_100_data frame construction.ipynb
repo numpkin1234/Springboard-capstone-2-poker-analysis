{
 "cells": [
  {
   "cell_type": "markdown",
   "metadata": {},
   "source": [
    "#### The poker data is descriptive format in txt files, so the first step to extract the information with the regex module. I will first concatinate all the files into a single string, then extract information from that string."
   ]
  },
  {
   "cell_type": "code",
   "execution_count": 1,
   "metadata": {},
   "outputs": [],
   "source": [
    "# import modules\n",
    "import re\n",
    "import os\n",
    "import pandas as pd\n",
    "import numpy as np\n",
    "import matplotlib.pyplot as plt\n"
   ]
  },
  {
   "cell_type": "code",
   "execution_count": 2,
   "metadata": {},
   "outputs": [
    {
     "data": {
      "text/plain": [
       "('abs NLH handhq_1-OBFUSCATED.txt', 325)"
      ]
     },
     "execution_count": 2,
     "metadata": {},
     "output_type": "execute_result"
    }
   ],
   "source": [
    "# create a list of files to be opened in the current directory\n",
    "files_ls = [i for i in os.listdir('.') if i.endswith('.txt')]\n",
    "# inspect the number of files to be opened and an examplary file name\n",
    "files_ls[0], len(files_ls)"
   ]
  },
  {
   "cell_type": "code",
   "execution_count": 3,
   "metadata": {},
   "outputs": [
    {
     "data": {
      "text/plain": [
       "(325, 1516071)"
      ]
     },
     "execution_count": 3,
     "metadata": {},
     "output_type": "execute_result"
    }
   ],
   "source": [
    "# initiate a list to store all the files\n",
    "opened_files = []\n",
    "# open all 325 files\n",
    "for i in files_ls:\n",
    "    with open(i, 'r') as file:\n",
    "        # read each file as a string and then append it to the opened_files list\n",
    "        opened_files.append(file.read())\n",
    "# inspect the number of items in the opened_files list and the number of characters in the first items on that list\n",
    "len(opened_files), len(opened_files[0])"
   ]
  },
  {
   "cell_type": "code",
   "execution_count": 4,
   "metadata": {},
   "outputs": [
    {
     "data": {
      "text/plain": [
       "471306488"
      ]
     },
     "execution_count": 4,
     "metadata": {},
     "output_type": "execute_result"
    }
   ],
   "source": [
    "# each of the files contain 1000 hands of poker\n",
    "# concatnate the entire list into a single string\n",
    "ls_str = ''\n",
    "for i in opened_files:\n",
    "    ls_str += i\n",
    "# inspect the number of characters in the str\n",
    "len(ls_str)"
   ]
  },
  {
   "cell_type": "code",
   "execution_count": 5,
   "metadata": {},
   "outputs": [
    {
     "data": {
      "text/plain": [
       "(324011,\n",
       " 'Stage #3035396830: Holdem  No Limit $1 - 2009-07-06 10:22:40 (ET)\\nTable: ALABAMA ST (Real Money) Seat #5 is the dealer\\nSeat 5 - wMdq1Vsfb3yU3bONnHEvmg ($221.53 in chips)\\nSeat 6 - 0xx2I+FfRzMVj7w16FMilQ ($102.50 in chips)\\nSeat 1 - OPEglAGmUA0vHFHWj5Q2yQ ($23.80 in chips)\\nSeat 2 - YSHxGU0SJJArHMcfAioprg ($129.25 in chips)\\nSeat 3 - EL56pDqJIH50UlBT0W57lw ($212.40 in chips)\\nSeat 4 - WtuwXxyxbK9O35PGqYc8Zg ($169.45 in chips)\\n0xx2I+FfRzMVj7w16FMilQ - Posts small blind $0.50\\nOPEglAGmUA0vHFHWj5Q2yQ - Posts big blind $1\\n*** POCKET CARDS ***\\nYSHxGU0SJJArHMcfAioprg - Folds\\nEL56pDqJIH50UlBT0W57lw - Folds\\nWtuwXxyxbK9O35PGqYc8Zg - Raises $3.50 to $3.50\\nwMdq1Vsfb3yU3bONnHEvmg - Folds\\n0xx2I+FfRzMVj7w16FMilQ - Folds\\nOPEglAGmUA0vHFHWj5Q2yQ - Folds\\nWtuwXxyxbK9O35PGqYc8Zg - returned ($2.50) : not called\\n*** SHOW DOWN ***\\nWtuwXxyxbK9O35PGqYc8Zg - Does not show\\nWtuwXxyxbK9O35PGqYc8Zg Collects $2.50 from main pot\\n*** SUMMARY ***\\nTotal Pot($2.50)\\nSeat 1: OPEglAGmUA0vHFHWj5Q2yQ (big blind) Folded on the POCKET CARDS\\nSeat 2: YSHxGU0SJJArHMcfAioprg Folded on the POCKET CARDS\\nSeat 3: EL56pDqJIH50UlBT0W57lw Folded on the POCKET CARDS\\nSeat 4: WtuwXxyxbK9O35PGqYc8Zg collected Total ($2.50)\\nSeat 5: wMdq1Vsfb3yU3bONnHEvmg (dealer) Folded on the POCKET CARDS\\nSeat 6: 0xx2I+FfRzMVj7w16FMilQ (small blind) Folded on the POCKET CARDS')"
      ]
     },
     "execution_count": 5,
     "metadata": {},
     "output_type": "execute_result"
    }
   ],
   "source": [
    "# each hand of poker is seperated by 3 empty lines\n",
    "# split the str of over 470 million characters into poker hands, drop final entry because it's an empty string\n",
    "poker_hands = np.array(ls_str.split('\\n\\n\\n\\n')[:-1])\n",
    "# inspect the number of poker hands recorded (expecting 324000+), and an example of a hand\n",
    "len(poker_hands), poker_hands[-1]"
   ]
  },
  {
   "cell_type": "markdown",
   "metadata": {},
   "source": [
    "#### After observing the splitted strings, I can see there are more than 320k recorded poker hands. Next steps will be my attempt to clean and extract information from these records."
   ]
  },
  {
   "cell_type": "markdown",
   "metadata": {},
   "source": [
    "drop all hands that have pot size of 0 (this happens when there is no small blind and everyone folds to the big blind)"
   ]
  },
  {
   "cell_type": "code",
   "execution_count": 6,
   "metadata": {},
   "outputs": [
    {
     "data": {
      "text/plain": [
       "324011"
      ]
     },
     "execution_count": 6,
     "metadata": {},
     "output_type": "execute_result"
    }
   ],
   "source": [
    "# extract pot sizes from the list of hands\n",
    "pot_sizes = np.array([float(re.findall(r'(?<=Pot\\(\\$)\\d*\\.*\\d*?(?=\\D)', i)[0]) for i in poker_hands])\n",
    "len(pot_sizes)"
   ]
  },
  {
   "cell_type": "code",
   "execution_count": 7,
   "metadata": {},
   "outputs": [
    {
     "data": {
      "text/plain": [
       "546"
      ]
     },
     "execution_count": 7,
     "metadata": {},
     "output_type": "execute_result"
    }
   ],
   "source": [
    "# get index of all 0 pot sizes\n",
    "no_pot = [i for i, e in enumerate(pot_sizes) if e == 0]\n",
    "len(no_pot)"
   ]
  },
  {
   "cell_type": "code",
   "execution_count": 8,
   "metadata": {},
   "outputs": [
    {
     "data": {
      "text/plain": [
       "(323465, 323465)"
      ]
     },
     "execution_count": 8,
     "metadata": {},
     "output_type": "execute_result"
    }
   ],
   "source": [
    "# delete the list of indexes from poker_hands and pot_sizes\n",
    "poker_hands1 = np.delete(poker_hands, no_pot)\n",
    "pot_sizes1 = np.delete(pot_sizes, no_pot)\n",
    "len(poker_hands1), len(pot_sizes1)"
   ]
  },
  {
   "cell_type": "code",
   "execution_count": 9,
   "metadata": {},
   "outputs": [],
   "source": [
    "# define several lists of potentially useful information to extract from the original text\n",
    "hand_ids = []\n",
    "table_names = []\n",
    "active_seats = []\n",
    "num_players = []\n",
    "active_players = []\n",
    "dealer_positions = []\n",
    "winners = []"
   ]
  },
  {
   "cell_type": "markdown",
   "metadata": {},
   "source": [
    "In the next several cells, extract values from poker_hands and record them into pre-defined variables\n",
    "These could have been done in a single cell by a single for loop.\n",
    "I splited in to different cells in case a mistake was made so I don't have to reiterate everything over 300k items."
   ]
  },
  {
   "cell_type": "code",
   "execution_count": 10,
   "metadata": {},
   "outputs": [
    {
     "data": {
      "text/plain": [
       "323465"
      ]
     },
     "execution_count": 10,
     "metadata": {},
     "output_type": "execute_result"
    }
   ],
   "source": [
    "# extrat unique id number of each hand\n",
    "hand_ids = []\n",
    "for i in poker_hands1:\n",
    "    # extract hand id values\n",
    "    hand_id = re.findall(r'(?<=#)\\d+(?=:)', i)\n",
    "    if hand_id != []:\n",
    "        hand_ids.append(hand_id[0])\n",
    "    else:\n",
    "        hand_ids.append('NA')\n",
    "len(hand_ids)"
   ]
  },
  {
   "cell_type": "code",
   "execution_count": 11,
   "metadata": {},
   "outputs": [
    {
     "data": {
      "text/plain": [
       "(323465, 691)"
      ]
     },
     "execution_count": 11,
     "metadata": {},
     "output_type": "execute_result"
    }
   ],
   "source": [
    "# extract table names for each hand\n",
    "table_names = []\n",
    "for i in poker_hands1:\n",
    "    table_name = re.findall(r'(?<=Table: ).*(?= \\(Real)', i)[0]\n",
    "    table_names.append(table_name)\n",
    "# check the number of UNIQUE table names\n",
    "len(table_names), len(set(table_names))  "
   ]
  },
  {
   "cell_type": "code",
   "execution_count": 12,
   "metadata": {},
   "outputs": [
    {
     "data": {
      "text/plain": [
       "323465"
      ]
     },
     "execution_count": 12,
     "metadata": {},
     "output_type": "execute_result"
    }
   ],
   "source": [
    "# extract active seats\n",
    "active_seats = []\n",
    "for i in poker_hands1:\n",
    "    active_seat = re.findall(r'(?<=Seat )\\d(?= -)', i)\n",
    "    active_seats.append(active_seat)\n",
    "len(active_seats)"
   ]
  },
  {
   "cell_type": "code",
   "execution_count": 13,
   "metadata": {},
   "outputs": [
    {
     "data": {
      "text/plain": [
       "(323465, [4, 5, 9, 7, 6])"
      ]
     },
     "execution_count": 13,
     "metadata": {},
     "output_type": "execute_result"
    }
   ],
   "source": [
    "# From active_seats, I can derive the number of active players at the table\n",
    "num_players = [len(i) for i in active_seats]\n",
    "len(num_players), num_players[:5]"
   ]
  },
  {
   "cell_type": "code",
   "execution_count": 14,
   "metadata": {},
   "outputs": [
    {
     "data": {
      "text/plain": [
       "(323465,\n",
       " ['vETYfpoA+FhBercnDPJrRw',\n",
       "  'DeZAZcPNNQ5w+Wb+5ujZdA',\n",
       "  'AiiJXMM0CfYl69+Nq3jyfA',\n",
       "  'id+sbECX+YdI8qhMhpje+g'])"
      ]
     },
     "execution_count": 14,
     "metadata": {},
     "output_type": "execute_result"
    }
   ],
   "source": [
    "# extract corresponding players in each seat, note that each player name is encoded into a series of 22 characters\n",
    "active_players = []\n",
    "for i in poker_hands1:\n",
    "    active_player = re.findall(r'(?<=Seat \\d - ).*(?= \\(\\$)', i)\n",
    "    active_players.append(active_player)\n",
    "len(active_players), active_players[0]"
   ]
  },
  {
   "cell_type": "code",
   "execution_count": 15,
   "metadata": {},
   "outputs": [
    {
     "data": {
      "text/plain": [
       "(323465, ['5', '4', '2', '1', '6'])"
      ]
     },
     "execution_count": 15,
     "metadata": {},
     "output_type": "execute_result"
    }
   ],
   "source": [
    "# extract dealer seat (last to act) positions, in theory, this seat should win the most amount of chips\n",
    "dealer_positions = []\n",
    "for i in poker_hands1:\n",
    "    dealer_position = re.findall(r'\\d(?= is the)', i)[0]\n",
    "    dealer_positions.append(dealer_position)\n",
    "len(dealer_positions), dealer_positions[:5]\n",
    "   "
   ]
  },
  {
   "cell_type": "code",
   "execution_count": 16,
   "metadata": {
    "scrolled": true
   },
   "outputs": [
    {
     "data": {
      "text/plain": [
       "(323465,\n",
       " ['DeZAZcPNNQ5w+Wb+5ujZdA (small blind)',\n",
       "  'uwsIGbIB4ktlhz44JKQKDQ (small blind)',\n",
       "  'LHSEggf8hUg0kqvaCgiJcw'])"
      ]
     },
     "execution_count": 16,
     "metadata": {},
     "output_type": "execute_result"
    }
   ],
   "source": [
    "# winner of the pot, take first 22 characters of each string to represent player, characters after that is the position\n",
    "winners = []\n",
    "for i in poker_hands1:\n",
    "    winner = re.findall(r'(?<=Seat \\d\\: ).*(?= \\w{3,} Total)',i)\n",
    "    if winner != []:                    \n",
    "        winners.append(winner[0])\n",
    "    else:\n",
    "        winners.append('NA')\n",
    "len(winners), winners[:3]"
   ]
  },
  {
   "cell_type": "markdown",
   "metadata": {},
   "source": [
    "inspect and fix the 'NA' values in winners"
   ]
  },
  {
   "cell_type": "code",
   "execution_count": 17,
   "metadata": {},
   "outputs": [
    {
     "data": {
      "text/plain": [
       "(93, [6747, 19007, 22422, 24475, 43840])"
      ]
     },
     "execution_count": 17,
     "metadata": {},
     "output_type": "execute_result"
    }
   ],
   "source": [
    "winner_NA = []\n",
    "for i, e in enumerate(winners):\n",
    "    if e == 'NA':\n",
    "        winner_NA.append(i)\n",
    "len(winner_NA), winner_NA[:5]"
   ]
  },
  {
   "cell_type": "code",
   "execution_count": 18,
   "metadata": {
    "scrolled": true
   },
   "outputs": [
    {
     "data": {
      "text/plain": [
       "array(['Stage #3036521936: Holdem  No Limit $1 - 2009-07-06 17:41:51 (ET)\\nTable: KALAMAZOO (Real Money) Seat #5 is the dead dealer\\nSeat 6 - 9GqxeZdEybKVcREg88iLsg ($34.30 in chips)\\nSeat 1 - Tc69lc8lChNrgXnKvsPOwA ($196.45 in chips)\\nSeat 3 - emkZhOhUot7/gO+xLvPkQw ($231.30 in chips)\\n9GqxeZdEybKVcREg88iLsg - Posts small blind $0.50\\nemkZhOhUot7/gO+xLvPkQw - Posts big blind $1\\np7tW8a9G4XZ9afzYEnSCRQ - Posts $1\\n*** POCKET CARDS ***\\np7tW8a9G4XZ9afzYEnSCRQ - Checks\\n9GqxeZdEybKVcREg88iLsg - Calls $0.50\\nemkZhOhUot7/gO+xLvPkQw - Checks\\n*** FLOP *** [7s Ah Kc]\\n9GqxeZdEybKVcREg88iLsg - Checks\\nemkZhOhUot7/gO+xLvPkQw - Folds\\np7tW8a9G4XZ9afzYEnSCRQ - Bets $3\\n9GqxeZdEybKVcREg88iLsg - Folds\\np7tW8a9G4XZ9afzYEnSCRQ - returned ($3) : not called\\n*** SHOW DOWN ***\\n- Does not show\\np7tW8a9G4XZ9afzYEnSCRQ Collects $2.85 from main pot\\n*** SUMMARY ***\\nTotal Pot($3) | Rake ($0.15)\\nBoard [7s Ah Kc]\\nSeat 3: emkZhOhUot7/gO+xLvPkQw (big blind) Folded on the FLOP\\nSeat 6: 9GqxeZdEybKVcREg88iLsg (small blind) Folded on the FLOP',\n",
       "       'Stage #3038868166: Holdem  No Limit $1 - 2009-07-07 08:00:28 (ET)\\nTable: ORANGE (Real Money) Seat #6 is the dealer\\nSeat 6 - q7DjvrdVSfraOz33YEtI3w ($69.71 in chips)\\nSeat 1 - HQg4dAYPUt6c2wXfx8Qp2A ($124 in chips)\\nSeat 2 - vl34UryN/ucqqReFS2Ek9g ($130.88 in chips)\\nSeat 4 - fee8o8fMq8pd+JFXlL6J1g ($213.65 in chips)\\nSeat 5 - crPrnOP0Qvh5A3bf/yVczg ($132.80 in chips)\\nHQg4dAYPUt6c2wXfx8Qp2A - Posts small blind $0.50\\nWbyFTZtHE6doaricbG4ebg - Posts big blind $1\\n*** POCKET CARDS ***\\nfee8o8fMq8pd+JFXlL6J1g - Folds\\ncrPrnOP0Qvh5A3bf/yVczg - Folds\\nq7DjvrdVSfraOz33YEtI3w - Folds\\nHQg4dAYPUt6c2wXfx8Qp2A - Folds\\n*** SHOW DOWN ***\\n- Does not show\\nWbyFTZtHE6doaricbG4ebg Collects $1.50 from main pot\\n*** SUMMARY ***\\nTotal Pot($1.50)\\nSeat 1: HQg4dAYPUt6c2wXfx8Qp2A (small blind) Folded on the POCKET CARDS\\nSeat 4: fee8o8fMq8pd+JFXlL6J1g Folded on the POCKET CARDS\\nSeat 5: crPrnOP0Qvh5A3bf/yVczg Folded on the POCKET CARDS\\nSeat 6: q7DjvrdVSfraOz33YEtI3w (dealer) Folded on the POCKET CARDS',\n",
       "       'Stage #3039363678: Holdem  No Limit $1 - 2009-07-07 12:39:00 (ET)\\nTable: ALASKA ST (Real Money) Seat #1 is the dealer\\nSeat 1 - +TrojUhCFHWemEEz9F1Cfg ($107.35 in chips)\\nSeat 2 - OkeZA4MnqDYwUto8c/azjQ ($311.55 in chips)\\nSeat 3 - mYyfwqfleZpc87Qk+Yb+TQ ($200.90 in chips)\\nSeat 5 - 6EXxHRKC58tz+BNqFxjiAQ ($42.80 in chips)\\nSeat 6 - fjVWt+9TYzjlv/c8jIVV5A ($45 in chips)\\nOkeZA4MnqDYwUto8c/azjQ - Posts small blind $0.50\\njGc2Y9rfADbEmYz6zie+cg - Posts big blind $1\\n*** POCKET CARDS ***\\n6EXxHRKC58tz+BNqFxjiAQ - Calls $1\\nfjVWt+9TYzjlv/c8jIVV5A - Folds\\n+TrojUhCFHWemEEz9F1Cfg - Folds\\nOkeZA4MnqDYwUto8c/azjQ - Folds\\njGc2Y9rfADbEmYz6zie+cg - Checks\\n*** FLOP *** [Kc Qc 9s]\\njGc2Y9rfADbEmYz6zie+cg - Bets $2.50\\n6EXxHRKC58tz+BNqFxjiAQ - Calls $2.50\\n*** TURN *** [Kc Qc 9s] [5s]\\njGc2Y9rfADbEmYz6zie+cg - Checks\\n6EXxHRKC58tz+BNqFxjiAQ - Bets $7.50\\njGc2Y9rfADbEmYz6zie+cg - Calls $7.50\\n*** RIVER *** [Kc Qc 9s 5s] [6c]\\njGc2Y9rfADbEmYz6zie+cg - Bets $22.50\\n6EXxHRKC58tz+BNqFxjiAQ - Calls $22.50\\n*** SHOW DOWN ***\\n- Shows [8c 10c] (Flush, king high)\\n6EXxHRKC58tz+BNqFxjiAQ - Mucks\\njGc2Y9rfADbEmYz6zie+cg Collects $64 from main pot\\n*** SUMMARY ***\\nTotal Pot($67.50) | Rake ($3) | Jackpot Rake ($0.50)\\nBoard [Kc Qc 9s 5s 6c]\\nSeat 1: +TrojUhCFHWemEEz9F1Cfg (dealer) Folded on the POCKET CARDS\\nSeat 2: OkeZA4MnqDYwUto8c/azjQ (small blind) Folded on the POCKET CARDS\\nSeat 5: 6EXxHRKC58tz+BNqFxjiAQ HI: [Mucked] [Kh 9c]\\nSeat 6: fjVWt+9TYzjlv/c8jIVV5A Folded on the POCKET CARDS'],\n",
       "      dtype='<U3208')"
      ]
     },
     "execution_count": 18,
     "metadata": {},
     "output_type": "execute_result"
    }
   ],
   "source": [
    "poker_hands1[winner_NA[:3]]"
   ]
  },
  {
   "cell_type": "markdown",
   "metadata": {},
   "source": [
    "Looks like the NAs in poker_hands are due to entry error in original data recording\n",
    "Leave them as NAs for now because there are only 93 NAs, and can easily be fixed in dataframe later\n"
   ]
  },
  {
   "cell_type": "markdown",
   "metadata": {},
   "source": [
    "there are a few things I need to do for the winners list\n",
    "* seperate the id and positions into 2 lists\n",
    "* only big blind, small blind, and dealer are labeled positions, assign 'other' to rest"
   ]
  },
  {
   "cell_type": "code",
   "execution_count": 19,
   "metadata": {},
   "outputs": [
    {
     "data": {
      "text/plain": [
       "(323465,\n",
       " ['DeZAZcPNNQ5w+Wb+5ujZdA',\n",
       "  'uwsIGbIB4ktlhz44JKQKDQ',\n",
       "  'LHSEggf8hUg0kqvaCgiJcw',\n",
       "  'kukN3pTqN1CyHqx/bq+8xw',\n",
       "  'AiiJXMM0CfYl69+Nq3jyfA'])"
      ]
     },
     "execution_count": 19,
     "metadata": {},
     "output_type": "execute_result"
    }
   ],
   "source": [
    "# create a list of winner's id from the first 22 characters of each item in the winner's list\n",
    "winner_ids = []\n",
    "for i in winners:\n",
    "    winner_ids.append(i[:22])\n",
    "len(winner_ids), winner_ids[:5]"
   ]
  },
  {
   "cell_type": "code",
   "execution_count": 20,
   "metadata": {
    "scrolled": true
   },
   "outputs": [
    {
     "data": {
      "text/plain": [
       "{'(big blind)',\n",
       " '(dealer)',\n",
       " '(dealer) (small blind)',\n",
       " '(small blind)',\n",
       " 'Vm0x20fGK8i7pJSMjxNCg blind)',\n",
       " 'Vm0x20fGK8i7pJSMjxNCgll blind)',\n",
       " 'all blind)',\n",
       " 'd)',\n",
       " 'ind)',\n",
       " 'lizdsKSUTdz03DGhameVwbig blind)',\n",
       " 'lizdsKSUTdz03DGhameVwdealer)',\n",
       " 'lizdsKSUTdz03DGhameVwsmall blind)',\n",
       " 'other'}"
      ]
     },
     "execution_count": 20,
     "metadata": {},
     "output_type": "execute_result"
    }
   ],
   "source": [
    "# create a list of winner's position, they should be the characters after the 22nd, label non entries as 'other'\n",
    "winner_pos = []\n",
    "for i in winners:\n",
    "    if len(i) > 22:\n",
    "        winner_pos.append(i[23:])\n",
    "    else:\n",
    "        winner_pos.append('other')\n",
    "set(winner_pos)"
   ]
  },
  {
   "cell_type": "markdown",
   "metadata": {},
   "source": [
    "Upon inspection of the unique values of winner_pos, few changes can be made\n",
    "winner positions with dealer and small blind is simply dealer in a headsup pot\n",
    "all values not in [big blind, small blind, dealer, other] are entry errors, assign them as other"
   ]
  },
  {
   "cell_type": "code",
   "execution_count": 21,
   "metadata": {},
   "outputs": [
    {
     "data": {
      "text/plain": [
       "(323465, {'big blind', 'dealer', 'other', 'small blind'})"
      ]
     },
     "execution_count": 21,
     "metadata": {},
     "output_type": "execute_result"
    }
   ],
   "source": [
    "winner_pos1 = []\n",
    "for i in winner_pos:\n",
    "    if i == '(big blind)':\n",
    "        winner_pos1.append('big blind')\n",
    "    elif i == '(dealer)' or i == '(dealer) (small blind)':\n",
    "        winner_pos1.append('dealer')\n",
    "    elif i == '(small blind)':\n",
    "        winner_pos1.append('small blind')\n",
    "    else:\n",
    "        winner_pos1.append('other')\n",
    "len(winner_pos1), set(winner_pos1)"
   ]
  },
  {
   "cell_type": "code",
   "execution_count": 22,
   "metadata": {
    "scrolled": true
   },
   "outputs": [
    {
     "data": {
      "text/html": [
       "<div>\n",
       "<style scoped>\n",
       "    .dataframe tbody tr th:only-of-type {\n",
       "        vertical-align: middle;\n",
       "    }\n",
       "\n",
       "    .dataframe tbody tr th {\n",
       "        vertical-align: top;\n",
       "    }\n",
       "\n",
       "    .dataframe thead th {\n",
       "        text-align: right;\n",
       "    }\n",
       "</style>\n",
       "<table border=\"1\" class=\"dataframe\">\n",
       "  <thead>\n",
       "    <tr style=\"text-align: right;\">\n",
       "      <th></th>\n",
       "      <th>hand_id</th>\n",
       "      <th>table_name</th>\n",
       "      <th>dealer_pos</th>\n",
       "      <th>pot_size</th>\n",
       "      <th>winner_player_id</th>\n",
       "      <th>winner_position</th>\n",
       "    </tr>\n",
       "  </thead>\n",
       "  <tbody>\n",
       "    <tr>\n",
       "      <th>97558</th>\n",
       "      <td>3056371366</td>\n",
       "      <td>ABBEY AVE</td>\n",
       "      <td>4</td>\n",
       "      <td>7.5</td>\n",
       "      <td>+IoUkQT+zPz8j3q9Q0NsqQ</td>\n",
       "      <td>big blind</td>\n",
       "    </tr>\n",
       "    <tr>\n",
       "      <th>93463</th>\n",
       "      <td>3055738160</td>\n",
       "      <td>ABBEY AVE</td>\n",
       "      <td>3</td>\n",
       "      <td>5.5</td>\n",
       "      <td>qZakGxs+qq53zX908Ec0YQ</td>\n",
       "      <td>other</td>\n",
       "    </tr>\n",
       "    <tr>\n",
       "      <th>93485</th>\n",
       "      <td>3055740986</td>\n",
       "      <td>ABBEY AVE</td>\n",
       "      <td>4</td>\n",
       "      <td>26.5</td>\n",
       "      <td>kczVAxMl9IVQn3atcEEDFw</td>\n",
       "      <td>big blind</td>\n",
       "    </tr>\n",
       "    <tr>\n",
       "      <th>93523</th>\n",
       "      <td>3055745278</td>\n",
       "      <td>ABBEY AVE</td>\n",
       "      <td>5</td>\n",
       "      <td>10</td>\n",
       "      <td>1fPsyUc/dhU5ddGG8evWaQ</td>\n",
       "      <td>other</td>\n",
       "    </tr>\n",
       "    <tr>\n",
       "      <th>93543</th>\n",
       "      <td>3055747620</td>\n",
       "      <td>ABBEY AVE</td>\n",
       "      <td>6</td>\n",
       "      <td>17</td>\n",
       "      <td>+JXQvDQQyTSprPfu5NY+zg</td>\n",
       "      <td>other</td>\n",
       "    </tr>\n",
       "    <tr>\n",
       "      <th>...</th>\n",
       "      <td>...</td>\n",
       "      <td>...</td>\n",
       "      <td>...</td>\n",
       "      <td>...</td>\n",
       "      <td>...</td>\n",
       "      <td>...</td>\n",
       "    </tr>\n",
       "    <tr>\n",
       "      <th>131264</th>\n",
       "      <td>3063332436</td>\n",
       "      <td>ZERMATT AVE</td>\n",
       "      <td>5</td>\n",
       "      <td>10.5</td>\n",
       "      <td>ROLP6S9kaoxp9w2XBSEfig</td>\n",
       "      <td>other</td>\n",
       "    </tr>\n",
       "    <tr>\n",
       "      <th>131252</th>\n",
       "      <td>3063330352</td>\n",
       "      <td>ZERMATT AVE</td>\n",
       "      <td>3</td>\n",
       "      <td>2.5</td>\n",
       "      <td>ROLP6S9kaoxp9w2XBSEfig</td>\n",
       "      <td>dealer</td>\n",
       "    </tr>\n",
       "    <tr>\n",
       "      <th>131242</th>\n",
       "      <td>3063329304</td>\n",
       "      <td>ZERMATT AVE</td>\n",
       "      <td>2</td>\n",
       "      <td>2</td>\n",
       "      <td>ROLP6S9kaoxp9w2XBSEfig</td>\n",
       "      <td>small blind</td>\n",
       "    </tr>\n",
       "    <tr>\n",
       "      <th>131223</th>\n",
       "      <td>3063324972</td>\n",
       "      <td>ZERMATT AVE</td>\n",
       "      <td>9</td>\n",
       "      <td>8.5</td>\n",
       "      <td>840nfpjonl8fBJ6zZoS7Bg</td>\n",
       "      <td>big blind</td>\n",
       "    </tr>\n",
       "    <tr>\n",
       "      <th>131416</th>\n",
       "      <td>3063354678</td>\n",
       "      <td>ZERMATT AVE</td>\n",
       "      <td>2</td>\n",
       "      <td>19.5</td>\n",
       "      <td>faGHcCO6vxMMyjUBQKR5qA</td>\n",
       "      <td>other</td>\n",
       "    </tr>\n",
       "  </tbody>\n",
       "</table>\n",
       "<p>323465 rows × 6 columns</p>\n",
       "</div>"
      ],
      "text/plain": [
       "           hand_id   table_name dealer_pos pot_size        winner_player_id  \\\n",
       "97558   3056371366    ABBEY AVE          4      7.5  +IoUkQT+zPz8j3q9Q0NsqQ   \n",
       "93463   3055738160    ABBEY AVE          3      5.5  qZakGxs+qq53zX908Ec0YQ   \n",
       "93485   3055740986    ABBEY AVE          4     26.5  kczVAxMl9IVQn3atcEEDFw   \n",
       "93523   3055745278    ABBEY AVE          5       10  1fPsyUc/dhU5ddGG8evWaQ   \n",
       "93543   3055747620    ABBEY AVE          6       17  +JXQvDQQyTSprPfu5NY+zg   \n",
       "...            ...          ...        ...      ...                     ...   \n",
       "131264  3063332436  ZERMATT AVE          5     10.5  ROLP6S9kaoxp9w2XBSEfig   \n",
       "131252  3063330352  ZERMATT AVE          3      2.5  ROLP6S9kaoxp9w2XBSEfig   \n",
       "131242  3063329304  ZERMATT AVE          2        2  ROLP6S9kaoxp9w2XBSEfig   \n",
       "131223  3063324972  ZERMATT AVE          9      8.5  840nfpjonl8fBJ6zZoS7Bg   \n",
       "131416  3063354678  ZERMATT AVE          2     19.5  faGHcCO6vxMMyjUBQKR5qA   \n",
       "\n",
       "       winner_position  \n",
       "97558        big blind  \n",
       "93463            other  \n",
       "93485        big blind  \n",
       "93523            other  \n",
       "93543            other  \n",
       "...                ...  \n",
       "131264           other  \n",
       "131252          dealer  \n",
       "131242     small blind  \n",
       "131223       big blind  \n",
       "131416           other  \n",
       "\n",
       "[323465 rows x 6 columns]"
      ]
     },
     "execution_count": 22,
     "metadata": {},
     "output_type": "execute_result"
    }
   ],
   "source": [
    "# start setting up a dataframe with the lists so far\n",
    "col = ['hand_id', 'table_name', 'dealer_pos', 'pot_size', 'winner_player_id', 'winner_position']\n",
    "table_setup = pd.DataFrame([hand_ids, table_names, dealer_positions, pot_sizes1, winner_ids, winner_pos1]).T\n",
    "table_setup.columns = col\n",
    "table_setup.sort_values('table_name')"
   ]
  },
  {
   "cell_type": "markdown",
   "metadata": {},
   "source": [
    "#### In the next few cells, I will use the dataframe created above for some basic visualization, and see if they make sense"
   ]
  },
  {
   "cell_type": "code",
   "execution_count": 23,
   "metadata": {},
   "outputs": [
    {
     "data": {
      "text/plain": [
       "Text(0.5, 1.0, 'which position wins more pots')"
      ]
     },
     "execution_count": 23,
     "metadata": {},
     "output_type": "execute_result"
    },
    {
     "data": {
      "image/png": "[encoded data removed]",
      "text/plain": [
       "<Figure size 432x288 with 1 Axes>"
      ]
     },
     "metadata": {
      "needs_background": "light"
     },
     "output_type": "display_data"
    }
   ],
   "source": [
    "plt.hist(table_setup.winner_position)\n",
    "plt.xlabel('position')\n",
    "plt.ylabel('winning frequency')\n",
    "plt.title('which position wins more pots')"
   ]
  },
  {
   "cell_type": "markdown",
   "metadata": {},
   "source": [
    "Seems like big blind is winning more pots than dealer.\n",
    "This is misleading because the number of pots won by the blinds are inflated, cause they are involved in more pots.\n",
    "Select hands with pot_size greater than $1.50, thus getting rid of most hands that ends pre-flop"
   ]
  },
  {
   "cell_type": "code",
   "execution_count": 24,
   "metadata": {
    "scrolled": false
   },
   "outputs": [
    {
     "data": {
      "text/plain": [
       "Text(0.5, 1.0, 'number of pots won by position (pot sizes greater than blinds sizes)')"
      ]
     },
     "execution_count": 24,
     "metadata": {},
     "output_type": "execute_result"
    },
    {
     "data": {
      "image/png": "[encoded data removed]",
      "text/plain": [
       "<Figure size 432x288 with 1 Axes>"
      ]
     },
     "metadata": {
      "needs_background": "light"
     },
     "output_type": "display_data"
    }
   ],
   "source": [
    "plt.hist(table_setup.winner_position[table_setup.pot_size > 1.5])\n",
    "plt.xlabel('position')\n",
    "plt.ylabel('winning frequency')\n",
    "plt.title('number of pots won by position (pot sizes greater than blinds sizes)')"
   ]
  },
  {
   "cell_type": "markdown",
   "metadata": {},
   "source": [
    "The plot below confirms that a lot of pots won by the big blind are when everybody else folds preflop"
   ]
  },
  {
   "cell_type": "code",
   "execution_count": 25,
   "metadata": {
    "scrolled": true
   },
   "outputs": [
    {
     "data": {
      "text/plain": [
       "Text(0.5, 1.0, 'pot size distribution')"
      ]
     },
     "execution_count": 25,
     "metadata": {},
     "output_type": "execute_result"
    },
    {
     "data": {
      "image/png": "[encoded data removed]",
      "text/plain": [
       "<Figure size 432x288 with 1 Axes>"
      ]
     },
     "metadata": {
      "needs_background": "light"
     },
     "output_type": "display_data"
    }
   ],
   "source": [
    "# plot the pot size distribution\n",
    "plt.hist(table_setup.pot_size)\n",
    "plt.xlabel('pot size ($)')\n",
    "plt.ylabel('freqency')\n",
    "plt.title('pot size distribution')"
   ]
  },
  {
   "cell_type": "markdown",
   "metadata": {},
   "source": [
    "The distribution of pot size have some extreme outliers, plot again after getting rid of them"
   ]
  },
  {
   "cell_type": "code",
   "execution_count": 26,
   "metadata": {},
   "outputs": [
    {
     "data": {
      "text/plain": [
       "array([0.40155919, 0.3689393 , 0.08773917, ..., 0.41786913, 0.40155919,\n",
       "       0.38524924])"
      ]
     },
     "execution_count": 26,
     "metadata": {},
     "output_type": "execute_result"
    }
   ],
   "source": [
    "from scipy import stats\n",
    "pot_size_z = np.abs(stats.zscore(list(table_setup.pot_size)))\n",
    "pot_size_z"
   ]
  },
  {
   "cell_type": "code",
   "execution_count": 27,
   "metadata": {},
   "outputs": [
    {
     "data": {
      "text/plain": [
       "<matplotlib.lines.Line2D at 0x1dca96adc08>"
      ]
     },
     "execution_count": 27,
     "metadata": {},
     "output_type": "execute_result"
    },
    {
     "data": {
      "image/png": "[encoded data removed]",
      "text/plain": [
       "<Figure size 432x288 with 1 Axes>"
      ]
     },
     "metadata": {
      "needs_background": "light"
     },
     "output_type": "display_data"
    }
   ],
   "source": [
    "# getting rid of values with z score of 3 or higher\n",
    "table_setup['pot_size_z'] = pot_size_z\n",
    "plt.hist(table_setup.pot_size[table_setup.pot_size_z <= 3], bins=20)\n",
    "plt.xlabel('pot size ($)')\n",
    "plt.ylabel('freqency')\n",
    "plt.title('pot size distribution')\n",
    "plt.axvline(table_setup.pot_size.median(), ls = '--', c='red')"
   ]
  },
  {
   "cell_type": "markdown",
   "metadata": {},
   "source": [
    "Most pots are below $10, with a median of around $5. This make sense because players don't make good hands often in poker, so many tend to fold after they don't have anything on the flop. This is especially true at lower stakes because players tends to want to see the flop more often, and don't bluff as often as they should when they don't make hands. Resulting in overall smaller pots."
   ]
  },
  {
   "cell_type": "markdown",
   "metadata": {},
   "source": [
    "#### Next steps are to extract more detailed information on how each hand is played out. The goal is to create a dataframe that describes every players' actions on every street in each hand. The resulting dataframe should have 1.5-2 million rows."
   ]
  },
  {
   "cell_type": "markdown",
   "metadata": {},
   "source": [
    "extract the sections in each hand that describe the actions in the hands."
   ]
  },
  {
   "cell_type": "code",
   "execution_count": 28,
   "metadata": {
    "scrolled": false
   },
   "outputs": [
    {
     "data": {
      "text/plain": [
       "(323465,\n",
       " 'vETYfpoA+FhBercnDPJrRw - Folds\\nDeZAZcPNNQ5w+Wb+5ujZdA - Raises $2.50 to $3\\nid+sbECX+YdI8qhMhpje+g - Folds\\nDeZAZcPNNQ5w+Wb+5ujZdA - returned ($2) : not called\\n*** SHOW DOWN ***\\nDeZAZcPNNQ5w+Wb+5ujZdA - Does not show\\nDeZAZcPNNQ5w+Wb+5ujZdA Collects $2 from main pot')"
      ]
     },
     "execution_count": 28,
     "metadata": {},
     "output_type": "execute_result"
    }
   ],
   "source": [
    "hand_details = []\n",
    "for i in poker_hands1:\n",
    "    hand_detail = re.findall(r'(?<=CARDS \\*{3}\\n).*(?=\\n\\*{3} SUMMARY)', i, re.DOTALL)[0]\n",
    "    hand_details.append(hand_detail)\n",
    "len(hand_details), hand_details[0]"
   ]
  },
  {
   "cell_type": "markdown",
   "metadata": {},
   "source": [
    "Further divide hand details into pre_flop, flop, turn, river"
   ]
  },
  {
   "cell_type": "code",
   "execution_count": 29,
   "metadata": {},
   "outputs": [
    {
     "data": {
      "text/plain": [
       "(323465,\n",
       " ['vETYfpoA+FhBercnDPJrRw - Folds\\nDeZAZcPNNQ5w+Wb+5ujZdA - Raises $2.50 to $3\\nid+sbECX+YdI8qhMhpje+g - Folds\\nDeZAZcPNNQ5w+Wb+5ujZdA - returned ($2) : not called',\n",
       "  '9tEZRm6oI+e1Tz0x72b0vQ - Checks\\nAiiJXMM0CfYl69+Nq3jyfA - Folds\\ns32h30cC3rPhG5FiSCU42g - Folds\\nuwsIGbIB4ktlhz44JKQKDQ - Calls $0.50\\nahN79dgDL8C99nHik5Up7Q - Checks'])"
      ]
     },
     "execution_count": 29,
     "metadata": {},
     "output_type": "execute_result"
    }
   ],
   "source": [
    "pre_flop = []\n",
    "for i in hand_details:\n",
    "    pre = re.findall(r'.*?(?=\\n\\*{3})', i, re.DOTALL)[0]\n",
    "    pre_flop.append(pre)\n",
    "len(pre_flop), pre_flop[:2]"
   ]
  },
  {
   "cell_type": "code",
   "execution_count": 30,
   "metadata": {
    "scrolled": true
   },
   "outputs": [
    {
     "data": {
      "text/plain": [
       "(323465,\n",
       " ['NA',\n",
       "  '[9s 7h 2c]\\nuwsIGbIB4ktlhz44JKQKDQ - Checks\\nahN79dgDL8C99nHik5Up7Q - Checks\\n9tEZRm6oI+e1Tz0x72b0vQ - Checks'])"
      ]
     },
     "execution_count": 30,
     "metadata": {},
     "output_type": "execute_result"
    }
   ],
   "source": [
    "flop = []\n",
    "for i in hand_details:\n",
    "    fl = re.findall(r'(?<=FLOP \\*{3} ).*?(?=\\n\\*{3})', i, re.DOTALL)\n",
    "    if fl == []:\n",
    "        flop.append('NA')\n",
    "    else:\n",
    "        flop.append(fl[0])\n",
    "len(flop), flop[:2]"
   ]
  },
  {
   "cell_type": "code",
   "execution_count": 31,
   "metadata": {},
   "outputs": [
    {
     "data": {
      "text/plain": [
       "(323465,\n",
       " ['NA',\n",
       "  '[9s 7h 2c] [9d]\\nuwsIGbIB4ktlhz44JKQKDQ - Checks\\nahN79dgDL8C99nHik5Up7Q - Checks\\n9tEZRm6oI+e1Tz0x72b0vQ - Checks'])"
      ]
     },
     "execution_count": 31,
     "metadata": {},
     "output_type": "execute_result"
    }
   ],
   "source": [
    "turn = []\n",
    "for i in hand_details:\n",
    "    tu = re.findall(r'(?<=TURN \\*{3} ).*?(?=\\n\\*{3})', i, re.DOTALL)\n",
    "    if tu == []:\n",
    "        turn.append('NA')\n",
    "    else:\n",
    "        turn.append(tu[0])\n",
    "len(turn), turn[:2]"
   ]
  },
  {
   "cell_type": "code",
   "execution_count": 32,
   "metadata": {
    "scrolled": false
   },
   "outputs": [
    {
     "data": {
      "text/plain": [
       "(323465,\n",
       " ['NA',\n",
       "  '[9s 7h 2c 9d] [9c]\\nuwsIGbIB4ktlhz44JKQKDQ - Checks\\nahN79dgDL8C99nHik5Up7Q - Checks\\n9tEZRm6oI+e1Tz0x72b0vQ - Checks'])"
      ]
     },
     "execution_count": 32,
     "metadata": {},
     "output_type": "execute_result"
    }
   ],
   "source": [
    "river = []\n",
    "for i in hand_details:\n",
    "    riv = re.findall(r'(?<=RIVER \\*{3} ).*?(?=\\n\\*{3})', i, re.DOTALL)\n",
    "    if riv == []:\n",
    "        river.append('NA')\n",
    "    else:\n",
    "        river.append(riv[0])\n",
    "len(river), river[:2]"
   ]
  },
  {
   "cell_type": "markdown",
   "metadata": {},
   "source": [
    "From pre, flop, turn, river info, I can derive which street each hand ended on, and add to table_setup dataframe"
   ]
  },
  {
   "cell_type": "code",
   "execution_count": 33,
   "metadata": {},
   "outputs": [
    {
     "data": {
      "text/plain": [
       "(323465, ['preflop', 'river', 'flop', 'river', 'preflop'])"
      ]
     },
     "execution_count": 33,
     "metadata": {},
     "output_type": "execute_result"
    }
   ],
   "source": [
    "hand_ended = []\n",
    "for i in range(len(flop)):\n",
    "    if flop[i] == 'NA':\n",
    "        hand_ended.append('preflop')\n",
    "    elif turn[i] == 'NA':\n",
    "        hand_ended.append('flop')\n",
    "    elif river[i] == 'NA':\n",
    "        hand_ended.append('turn')\n",
    "    else:\n",
    "        hand_ended.append('river')\n",
    "len(hand_ended), hand_ended[:5]"
   ]
  },
  {
   "cell_type": "code",
   "execution_count": 34,
   "metadata": {
    "scrolled": false
   },
   "outputs": [
    {
     "data": {
      "text/html": [
       "<div>\n",
       "<style scoped>\n",
       "    .dataframe tbody tr th:only-of-type {\n",
       "        vertical-align: middle;\n",
       "    }\n",
       "\n",
       "    .dataframe tbody tr th {\n",
       "        vertical-align: top;\n",
       "    }\n",
       "\n",
       "    .dataframe thead th {\n",
       "        text-align: right;\n",
       "    }\n",
       "</style>\n",
       "<table border=\"1\" class=\"dataframe\">\n",
       "  <thead>\n",
       "    <tr style=\"text-align: right;\">\n",
       "      <th></th>\n",
       "      <th>hand_id</th>\n",
       "      <th>table_name</th>\n",
       "      <th>dealer_pos</th>\n",
       "      <th>pot_size</th>\n",
       "      <th>winner_player_id</th>\n",
       "      <th>winner_position</th>\n",
       "      <th>pot_size_z</th>\n",
       "      <th>hand_ended_on</th>\n",
       "    </tr>\n",
       "  </thead>\n",
       "  <tbody>\n",
       "    <tr>\n",
       "      <th>0</th>\n",
       "      <td>3017237436</td>\n",
       "      <td>INDIANA ST</td>\n",
       "      <td>5</td>\n",
       "      <td>2</td>\n",
       "      <td>DeZAZcPNNQ5w+Wb+5ujZdA</td>\n",
       "      <td>small blind</td>\n",
       "      <td>0.401559</td>\n",
       "      <td>preflop</td>\n",
       "    </tr>\n",
       "    <tr>\n",
       "      <th>1</th>\n",
       "      <td>3017235188</td>\n",
       "      <td>ALABAMA ST</td>\n",
       "      <td>4</td>\n",
       "      <td>3</td>\n",
       "      <td>uwsIGbIB4ktlhz44JKQKDQ</td>\n",
       "      <td>small blind</td>\n",
       "      <td>0.368939</td>\n",
       "      <td>river</td>\n",
       "    </tr>\n",
       "    <tr>\n",
       "      <th>2</th>\n",
       "      <td>3017243048</td>\n",
       "      <td>CORTEZ AVE</td>\n",
       "      <td>2</td>\n",
       "      <td>17</td>\n",
       "      <td>LHSEggf8hUg0kqvaCgiJcw</td>\n",
       "      <td>other</td>\n",
       "      <td>0.087739</td>\n",
       "      <td>flop</td>\n",
       "    </tr>\n",
       "    <tr>\n",
       "      <th>3</th>\n",
       "      <td>3017249292</td>\n",
       "      <td>GEORGIA HWY</td>\n",
       "      <td>1</td>\n",
       "      <td>23.5</td>\n",
       "      <td>kukN3pTqN1CyHqx/bq+8xw</td>\n",
       "      <td>dealer</td>\n",
       "      <td>0.299768</td>\n",
       "      <td>river</td>\n",
       "    </tr>\n",
       "    <tr>\n",
       "      <th>4</th>\n",
       "      <td>3017240160</td>\n",
       "      <td>BREWERY ST</td>\n",
       "      <td>6</td>\n",
       "      <td>2.5</td>\n",
       "      <td>AiiJXMM0CfYl69+Nq3jyfA</td>\n",
       "      <td>other</td>\n",
       "      <td>0.385249</td>\n",
       "      <td>preflop</td>\n",
       "    </tr>\n",
       "  </tbody>\n",
       "</table>\n",
       "</div>"
      ],
      "text/plain": [
       "      hand_id   table_name dealer_pos pot_size        winner_player_id  \\\n",
       "0  3017237436   INDIANA ST          5        2  DeZAZcPNNQ5w+Wb+5ujZdA   \n",
       "1  3017235188   ALABAMA ST          4        3  uwsIGbIB4ktlhz44JKQKDQ   \n",
       "2  3017243048   CORTEZ AVE          2       17  LHSEggf8hUg0kqvaCgiJcw   \n",
       "3  3017249292  GEORGIA HWY          1     23.5  kukN3pTqN1CyHqx/bq+8xw   \n",
       "4  3017240160   BREWERY ST          6      2.5  AiiJXMM0CfYl69+Nq3jyfA   \n",
       "\n",
       "  winner_position  pot_size_z hand_ended_on  \n",
       "0     small blind    0.401559       preflop  \n",
       "1     small blind    0.368939         river  \n",
       "2           other    0.087739          flop  \n",
       "3          dealer    0.299768         river  \n",
       "4           other    0.385249       preflop  "
      ]
     },
     "execution_count": 34,
     "metadata": {},
     "output_type": "execute_result"
    }
   ],
   "source": [
    "table_setup['hand_ended_on'] = hand_ended\n",
    "table_setup.head()"
   ]
  },
  {
   "cell_type": "code",
   "execution_count": 35,
   "metadata": {
    "scrolled": false
   },
   "outputs": [
    {
     "data": {
      "text/html": [
       "<div>\n",
       "<style scoped>\n",
       "    .dataframe tbody tr th:only-of-type {\n",
       "        vertical-align: middle;\n",
       "    }\n",
       "\n",
       "    .dataframe tbody tr th {\n",
       "        vertical-align: top;\n",
       "    }\n",
       "\n",
       "    .dataframe thead th {\n",
       "        text-align: right;\n",
       "    }\n",
       "</style>\n",
       "<table border=\"1\" class=\"dataframe\">\n",
       "  <thead>\n",
       "    <tr style=\"text-align: right;\">\n",
       "      <th></th>\n",
       "      <th>hand_id</th>\n",
       "      <th>seat</th>\n",
       "      <th>player id</th>\n",
       "    </tr>\n",
       "  </thead>\n",
       "  <tbody>\n",
       "    <tr>\n",
       "      <th>0</th>\n",
       "      <td>3017237436</td>\n",
       "      <td>[5, 6, 2, 3]</td>\n",
       "      <td>[vETYfpoA+FhBercnDPJrRw, DeZAZcPNNQ5w+Wb+5ujZd...</td>\n",
       "    </tr>\n",
       "    <tr>\n",
       "      <th>1</th>\n",
       "      <td>3017235188</td>\n",
       "      <td>[4, 5, 1, 2, 3]</td>\n",
       "      <td>[s32h30cC3rPhG5FiSCU42g, uwsIGbIB4ktlhz44JKQKD...</td>\n",
       "    </tr>\n",
       "    <tr>\n",
       "      <th>2</th>\n",
       "      <td>3017243048</td>\n",
       "      <td>[2, 3, 4, 5, 6, 7, 8, 9, 1]</td>\n",
       "      <td>[kExuS3SxZYRG/oFTl97LzA, ZpYc8/ksQYSNFEFIeiSSW...</td>\n",
       "    </tr>\n",
       "    <tr>\n",
       "      <th>3</th>\n",
       "      <td>3017249292</td>\n",
       "      <td>[1, 2, 3, 4, 7, 8, 9]</td>\n",
       "      <td>[kukN3pTqN1CyHqx/bq+8xw, kExuS3SxZYRG/oFTl97Lz...</td>\n",
       "    </tr>\n",
       "    <tr>\n",
       "      <th>4</th>\n",
       "      <td>3017240160</td>\n",
       "      <td>[6, 1, 2, 3, 4, 5]</td>\n",
       "      <td>[TiIZzdoB4G68QIRlf2vUrQ, c6u64hpBVK0VIc6NUysIq...</td>\n",
       "    </tr>\n",
       "  </tbody>\n",
       "</table>\n",
       "</div>"
      ],
      "text/plain": [
       "      hand_id                         seat  \\\n",
       "0  3017237436                 [5, 6, 2, 3]   \n",
       "1  3017235188              [4, 5, 1, 2, 3]   \n",
       "2  3017243048  [2, 3, 4, 5, 6, 7, 8, 9, 1]   \n",
       "3  3017249292        [1, 2, 3, 4, 7, 8, 9]   \n",
       "4  3017240160           [6, 1, 2, 3, 4, 5]   \n",
       "\n",
       "                                           player id  \n",
       "0  [vETYfpoA+FhBercnDPJrRw, DeZAZcPNNQ5w+Wb+5ujZd...  \n",
       "1  [s32h30cC3rPhG5FiSCU42g, uwsIGbIB4ktlhz44JKQKD...  \n",
       "2  [kExuS3SxZYRG/oFTl97LzA, ZpYc8/ksQYSNFEFIeiSSW...  \n",
       "3  [kukN3pTqN1CyHqx/bq+8xw, kExuS3SxZYRG/oFTl97Lz...  \n",
       "4  [TiIZzdoB4G68QIRlf2vUrQ, c6u64hpBVK0VIc6NUysIq...  "
      ]
     },
     "execution_count": 35,
     "metadata": {},
     "output_type": "execute_result"
    }
   ],
   "source": [
    "# the 2-d lists created earlier active_seats and active_players can be used to initiate new dataframe on hand details\n",
    "hand_details_df = pd.DataFrame([hand_ids, active_seats, active_players]).T\n",
    "hand_details_df.columns = ['hand_id', 'seat', 'player id']\n",
    "hand_details_df.head()"
   ]
  },
  {
   "cell_type": "code",
   "execution_count": 36,
   "metadata": {},
   "outputs": [
    {
     "data": {
      "text/plain": [
       "(323465, 3)"
      ]
     },
     "execution_count": 36,
     "metadata": {},
     "output_type": "execute_result"
    }
   ],
   "source": [
    "hand_details_df.shape"
   ]
  },
  {
   "cell_type": "code",
   "execution_count": 37,
   "metadata": {
    "scrolled": true
   },
   "outputs": [
    {
     "data": {
      "text/plain": [
       "(323465,\n",
       " [['197', '200.30', '78.50', '81.60'],\n",
       "  ['55.50', '247.10', '14.60', '200', '96.50']])"
      ]
     },
     "execution_count": 37,
     "metadata": {},
     "output_type": "execute_result"
    }
   ],
   "source": [
    "starting_stacks = []\n",
    "for i in poker_hands1:\n",
    "    starting_stack = re.findall(r'(?<=\\(\\$).*(?= in chips)', i)\n",
    "    starting_stacks.append(starting_stack)\n",
    "hand_details_df['starting_stack'] = starting_stacks\n",
    "len(starting_stacks), starting_stacks[:2]"
   ]
  },
  {
   "cell_type": "markdown",
   "metadata": {},
   "source": [
    "Players need to post big blind, small blind, and sometimes ante and missed blinds. Extract information on who posted how much for each hand"
   ]
  },
  {
   "cell_type": "code",
   "execution_count": 38,
   "metadata": {},
   "outputs": [
    {
     "data": {
      "text/plain": [
       "323465"
      ]
     },
     "execution_count": 38,
     "metadata": {},
     "output_type": "execute_result"
    }
   ],
   "source": [
    "posts = []\n",
    "for n, i in enumerate(poker_hands1):\n",
    "    # define x as active players of that hand, and y as a tuple of player id and amount posted\n",
    "    x = active_players[n]\n",
    "    y = re.findall(r'(.{22}) \\- Posts(?:\\sbig\\sblind\\s|\\ssmall\\sblind\\s|\\sAnte\\s|\\s)\\$(.*)', i)\n",
    "    # create list for each hand where posted amounts matches the player id\n",
    "    match = []\n",
    "    # iterate over each player in x\n",
    "    for a in x:\n",
    "        # count how much each player posted\n",
    "        total = 0\n",
    "        # look through every item in y for amounts posted by each player\n",
    "        for b in y:\n",
    "            if a == b[0]:\n",
    "                total += float(b[1])\n",
    "        match.append(total)\n",
    "    posts.append(match)\n",
    "len(posts)"
   ]
  },
  {
   "cell_type": "code",
   "execution_count": 39,
   "metadata": {
    "scrolled": false
   },
   "outputs": [
    {
     "data": {
      "text/plain": [
       "(323465, 5)"
      ]
     },
     "execution_count": 39,
     "metadata": {},
     "output_type": "execute_result"
    }
   ],
   "source": [
    "hand_details_df['post'] = posts\n",
    "hand_details_df.shape"
   ]
  },
  {
   "cell_type": "markdown",
   "metadata": {},
   "source": [
    "In the following cells, I will extract information for preflop, flop, turn, and river actions. "
   ]
  },
  {
   "cell_type": "code",
   "execution_count": 40,
   "metadata": {},
   "outputs": [
    {
     "data": {
      "text/plain": [
       "323465"
      ]
     },
     "execution_count": 40,
     "metadata": {},
     "output_type": "execute_result"
    }
   ],
   "source": [
    "pre_action = []\n",
    "for n, i in enumerate(pre_flop):\n",
    "    x = active_players[n]\n",
    "    y = re.findall(r'(.{22}) \\- (Raises|Checks|Folds|Calls|Bets)', i)\n",
    "    actions = []\n",
    "    for a in x:\n",
    "        action = ''\n",
    "        for b in y:\n",
    "            if a == b[0]:\n",
    "                action += (b[1] + ' ')\n",
    "        if action == '':\n",
    "            action = 'NA'\n",
    "        actions.append(action.strip())\n",
    "    pre_action.append(actions)\n",
    "len(pre_action)"
   ]
  },
  {
   "cell_type": "code",
   "execution_count": 41,
   "metadata": {},
   "outputs": [
    {
     "data": {
      "text/plain": [
       "323465"
      ]
     },
     "execution_count": 41,
     "metadata": {},
     "output_type": "execute_result"
    }
   ],
   "source": [
    "pre_amount = []    \n",
    "for n, i in enumerate(pre_flop):\n",
    "    x = active_players[n]\n",
    "    y = re.findall(r'(.{22}) \\- (?:Raises|Checks|Calls|Bets) \\$(\\S+)', i)\n",
    "    amounts = []\n",
    "    for a in x:\n",
    "        amount = 0\n",
    "        for b in y:\n",
    "            if a == b[0]:\n",
    "                amount += float(b[1])\n",
    "        amounts.append(amount)\n",
    "    pre_amount.append(amounts)\n",
    "len(pre_amount)"
   ]
  },
  {
   "cell_type": "code",
   "execution_count": 42,
   "metadata": {},
   "outputs": [
    {
     "data": {
      "text/plain": [
       "(323465, 323465)"
      ]
     },
     "execution_count": 42,
     "metadata": {},
     "output_type": "execute_result"
    }
   ],
   "source": [
    "flop_action = []\n",
    "flop_amount = []\n",
    "for n, i in enumerate(flop):\n",
    "    x = active_players[n]\n",
    "    y = re.findall(r'(.{22}) \\- (Raises|Checks|Folds|Calls|Bets)', i)\n",
    "    actions = []\n",
    "    for a in x:\n",
    "        action = ''\n",
    "        for b in y:\n",
    "            if a == b[0]:\n",
    "                action += (b[1] + ' ')\n",
    "        if action == '':\n",
    "            action = 'NA'\n",
    "        actions.append(action.strip())\n",
    "    flop_action.append(actions)\n",
    "for n, i in enumerate(flop):\n",
    "    x = active_players[n]\n",
    "    y = re.findall(r'(.{22}) \\- (?:Raises|Checks|Calls|Bets) \\$(\\S+)', i)\n",
    "    amounts = []\n",
    "    for a in x:\n",
    "        amount = 0\n",
    "        for b in y:\n",
    "            if a == b[0]:\n",
    "                amount += float(b[1])\n",
    "        amounts.append(amount)\n",
    "    flop_amount.append(amounts)\n",
    "len(flop_action), len(flop_amount)"
   ]
  },
  {
   "cell_type": "code",
   "execution_count": 43,
   "metadata": {},
   "outputs": [
    {
     "data": {
      "text/plain": [
       "(323465, 323465)"
      ]
     },
     "execution_count": 43,
     "metadata": {},
     "output_type": "execute_result"
    }
   ],
   "source": [
    "turn_action = []\n",
    "turn_amount = []\n",
    "for n, i in enumerate(turn):\n",
    "    x = active_players[n]\n",
    "    y = re.findall(r'(.{22}) \\- (Raises|Checks|Folds|Calls|Bets)', i)\n",
    "    actions = []\n",
    "    for a in x:\n",
    "        action = ''\n",
    "        for b in y:\n",
    "            if a == b[0]:\n",
    "                action += (b[1] + ' ')\n",
    "        if action == '':\n",
    "            action = 'NA'\n",
    "        actions.append(action.strip())\n",
    "    turn_action.append(actions)\n",
    "for n, i in enumerate(turn):\n",
    "    x = active_players[n]\n",
    "    y = re.findall(r'(.{22}) \\- (?:Raises|Checks|Calls|Bets) \\$(\\S+)', i)\n",
    "    amounts = []\n",
    "    for a in x:\n",
    "        amount = 0\n",
    "        for b in y:\n",
    "            if a == b[0]:\n",
    "                amount += float(b[1])\n",
    "        amounts.append(amount)\n",
    "    turn_amount.append(amounts)\n",
    "len(turn_action), len(turn_amount)"
   ]
  },
  {
   "cell_type": "code",
   "execution_count": 44,
   "metadata": {},
   "outputs": [
    {
     "data": {
      "text/plain": [
       "(323465, 323465)"
      ]
     },
     "execution_count": 44,
     "metadata": {},
     "output_type": "execute_result"
    }
   ],
   "source": [
    "river_action = []\n",
    "river_amount = []\n",
    "for n, i in enumerate(river):\n",
    "    x = active_players[n]\n",
    "    y = re.findall(r'(.{22}) \\- (Raises|Checks|Folds|Calls|Bets)', i)\n",
    "    actions = []\n",
    "    for a in x:\n",
    "        action = ''\n",
    "        for b in y:\n",
    "            if a == b[0]:\n",
    "                action += (b[1] + ' ')\n",
    "        if action == '':\n",
    "            action = 'NA'\n",
    "        actions.append(action.strip())\n",
    "    river_action.append(actions)\n",
    "for n, i in enumerate(river):\n",
    "    x = active_players[n]\n",
    "    y = re.findall(r'(.{22}) \\- (?:Raises|Checks|Calls|Bets) \\$(\\S+)', i)\n",
    "    amounts = []\n",
    "    for a in x:\n",
    "        amount = 0\n",
    "        for b in y:\n",
    "            if a == b[0]:\n",
    "                amount += float(b[1])\n",
    "        amounts.append(amount)\n",
    "    river_amount.append(amounts)\n",
    "len(river_action), len(river_amount)"
   ]
  },
  {
   "cell_type": "code",
   "execution_count": 45,
   "metadata": {
    "scrolled": true
   },
   "outputs": [
    {
     "data": {
      "text/plain": [
       "'5'"
      ]
     },
     "execution_count": 45,
     "metadata": {},
     "output_type": "execute_result"
    }
   ],
   "source": [
    "# find out which player is the dealer (last to act) in each hand\n",
    "table_setup['dealer_pos'][0]"
   ]
  },
  {
   "cell_type": "code",
   "execution_count": 46,
   "metadata": {},
   "outputs": [
    {
     "data": {
      "text/plain": [
       "323465"
      ]
     },
     "execution_count": 46,
     "metadata": {},
     "output_type": "execute_result"
    }
   ],
   "source": [
    "dealer_player = []\n",
    "for n, i in enumerate(poker_hands1):\n",
    "    x = re.findall(r'Seat (\\d) \\- (.{22})', i)\n",
    "    dealer = ''\n",
    "    for a in x:\n",
    "        if a[0] == table_setup['dealer_pos'][n]:\n",
    "            dealer += a[1]\n",
    "    dealer_player.append(dealer)   \n",
    "len(dealer_player)"
   ]
  },
  {
   "cell_type": "code",
   "execution_count": 47,
   "metadata": {},
   "outputs": [],
   "source": [
    "table_setup['dealer_player_id'] = dealer_player"
   ]
  },
  {
   "cell_type": "code",
   "execution_count": 48,
   "metadata": {},
   "outputs": [
    {
     "data": {
      "text/plain": [
       "323465"
      ]
     },
     "execution_count": 48,
     "metadata": {},
     "output_type": "execute_result"
    }
   ],
   "source": [
    "# construct a column for lists of positions of each player\n",
    "position = []\n",
    "for n, i in enumerate(poker_hands1):\n",
    "    x = active_players[n]\n",
    "    y = re.findall(r'(.{22}) \\- Posts (small blind|big blind) \\$', i)\n",
    "    pos = []\n",
    "    for a in x:\n",
    "        p = ''\n",
    "        for b in y:\n",
    "            if a == b[0]:\n",
    "                p += b[1]\n",
    "        if a == dealer_player[n]:\n",
    "            p = 'dealer'\n",
    "        if p == '':\n",
    "            p = 'other'\n",
    "        pos.append(p)\n",
    "    position.append(pos)\n",
    "len(position)"
   ]
  },
  {
   "cell_type": "code",
   "execution_count": 49,
   "metadata": {
    "scrolled": true
   },
   "outputs": [
    {
     "data": {
      "text/plain": [
       "(323465, 14)"
      ]
     },
     "execution_count": 49,
     "metadata": {},
     "output_type": "execute_result"
    }
   ],
   "source": [
    "hand_details_df['position'] = position\n",
    "hand_details_df['preflop'] = pre_action\n",
    "hand_details_df['p_amount'] = pre_amount\n",
    "hand_details_df['flop'] = flop_action\n",
    "hand_details_df['f_amount'] = flop_amount\n",
    "hand_details_df['turn'] = turn_action\n",
    "hand_details_df['t_amount'] = turn_amount\n",
    "hand_details_df['river'] = river_action\n",
    "hand_details_df['r_amount'] = river_amount\n",
    "hand_details_df.shape"
   ]
  },
  {
   "cell_type": "code",
   "execution_count": 50,
   "metadata": {},
   "outputs": [
    {
     "data": {
      "text/plain": [
       "(323465, 9)"
      ]
     },
     "execution_count": 50,
     "metadata": {},
     "output_type": "execute_result"
    }
   ],
   "source": [
    "table_setup.shape"
   ]
  },
  {
   "cell_type": "code",
   "execution_count": 51,
   "metadata": {},
   "outputs": [],
   "source": [
    "hand_details_df['winner_player_id'] = winner_ids"
   ]
  },
  {
   "cell_type": "code",
   "execution_count": 52,
   "metadata": {},
   "outputs": [
    {
     "data": {
      "text/plain": [
       "(323372, 15)"
      ]
     },
     "execution_count": 52,
     "metadata": {},
     "output_type": "execute_result"
    }
   ],
   "source": [
    "hand_details_df = hand_details_df[hand_details_df['winner_player_id'] != 'NA']\n",
    "hand_details_df.shape"
   ]
  },
  {
   "cell_type": "code",
   "execution_count": 53,
   "metadata": {},
   "outputs": [
    {
     "data": {
      "text/plain": [
       "(323372, 9)"
      ]
     },
     "execution_count": 53,
     "metadata": {},
     "output_type": "execute_result"
    }
   ],
   "source": [
    "table_setup = table_setup[table_setup['winner_player_id'] != 'NA']\n",
    "table_setup.shape"
   ]
  },
  {
   "cell_type": "markdown",
   "metadata": {},
   "source": [
    "The hand_details data frame is ready. However, each of its values are in the form of lists. For further analysis, I need to expand each list into individual values. The expanded data frame will have the hand_id column as the identifier for each hand, and the every player will be a row."
   ]
  },
  {
   "cell_type": "code",
   "execution_count": 54,
   "metadata": {},
   "outputs": [],
   "source": [
    "# recreate lists in the expanded version for the expanded dataframe\n",
    "hand_ids_exp = []\n",
    "active_seats_exp = []\n",
    "active_players_exp = []\n",
    "starting_stacks_exp = []\n",
    "posts_exp = []\n",
    "pre_action_exp = []\n",
    "pre_amount_exp = []\n",
    "flop_action_exp = []\n",
    "flop_amount_exp = []\n",
    "turn_action_exp = []\n",
    "turn_amount_exp = []\n",
    "river_action_exp = []\n",
    "river_amount_exp = []\n",
    "position_exp = []\n",
    "for i in range(len(hand_ids)):\n",
    "    active_seats_exp += active_seats[i]\n",
    "    active_players_exp += active_players[i]\n",
    "    starting_stacks_exp += starting_stacks[i]\n",
    "    posts_exp += posts[i]\n",
    "    pre_action_exp += pre_action[i]\n",
    "    pre_amount_exp += pre_amount[i]\n",
    "    flop_action_exp += flop_action[i]\n",
    "    flop_amount_exp += flop_amount[i]\n",
    "    turn_action_exp += turn_action[i]\n",
    "    turn_amount_exp += turn_amount[i]\n",
    "    river_action_exp += river_action[i]\n",
    "    river_amount_exp += river_amount[i]\n",
    "    position_exp += position[i]\n",
    "    for n in range(len(active_players[i])):\n",
    "        hand_ids_exp.append(hand_ids[i])"
   ]
  },
  {
   "cell_type": "code",
   "execution_count": 55,
   "metadata": {},
   "outputs": [],
   "source": [
    "details_exp = pd.DataFrame([hand_ids_exp, active_players_exp, active_seats_exp, starting_stacks_exp, position_exp, posts_exp, pre_action_exp, pre_amount_exp, flop_action_exp, flop_amount_exp, turn_action_exp, turn_amount_exp, river_action_exp, river_amount_exp]).T"
   ]
  },
  {
   "cell_type": "code",
   "execution_count": 56,
   "metadata": {},
   "outputs": [],
   "source": [
    "details_exp.columns = ['hand_id','player_id','seat','stack','position','post','preflop','p_amount','flop','f_amount','turn','t_amount','river','r_amount']\n",
    "details_exp.index = details_exp['hand_id']"
   ]
  },
  {
   "cell_type": "code",
   "execution_count": 57,
   "metadata": {
    "scrolled": true
   },
   "outputs": [
    {
     "data": {
      "text/plain": [
       "(               hand_id               player_id seat   stack     position post  \\\n",
       " hand_id                                                                         \n",
       " 3017237436  3017237436  vETYfpoA+FhBercnDPJrRw    5     197       dealer    0   \n",
       " 3017237436  3017237436  DeZAZcPNNQ5w+Wb+5ujZdA    6  200.30  small blind  0.5   \n",
       " 3017237436  3017237436  AiiJXMM0CfYl69+Nq3jyfA    2   78.50        other    0   \n",
       " 3017237436  3017237436  id+sbECX+YdI8qhMhpje+g    3   81.60    big blind    1   \n",
       " 3017235188  3017235188  s32h30cC3rPhG5FiSCU42g    4   55.50       dealer    0   \n",
       " \n",
       "            preflop p_amount flop f_amount turn t_amount river r_amount  \n",
       " hand_id                                                                 \n",
       " 3017237436   Folds        0   NA        0   NA        0    NA        0  \n",
       " 3017237436  Raises      2.5   NA        0   NA        0    NA        0  \n",
       " 3017237436      NA        0   NA        0   NA        0    NA        0  \n",
       " 3017237436   Folds        0   NA        0   NA        0    NA        0  \n",
       " 3017235188   Folds        0   NA        0   NA        0    NA        0  ,\n",
       "         hand_id player_id seat stack position  post preflop p_amount  flop  \\\n",
       " hand_id                                                                      \n",
       " NaN        None      None    6  None     None  None    None     None  None   \n",
       " NaN        None      None    1  None     None  None    None     None  None   \n",
       " NaN        None      None    2  None     None  None    None     None  None   \n",
       " NaN        None      None    3  None     None  None    None     None  None   \n",
       " NaN        None      None    4  None     None  None    None     None  None   \n",
       " \n",
       "         f_amount  turn t_amount river r_amount  \n",
       " hand_id                                         \n",
       " NaN         None  None     None  None     None  \n",
       " NaN         None  None     None  None     None  \n",
       " NaN         None  None     None  None     None  \n",
       " NaN         None  None     None  None     None  \n",
       " NaN         None  None     None  None     None  )"
      ]
     },
     "execution_count": 57,
     "metadata": {},
     "output_type": "execute_result"
    }
   ],
   "source": [
    "details_exp.head(), details_exp.tail()"
   ]
  },
  {
   "cell_type": "code",
   "execution_count": 58,
   "metadata": {
    "scrolled": true
   },
   "outputs": [],
   "source": [
    "# a lot of missing values on the tail, look for instances where list of seat is longer than others\n"
   ]
  },
  {
   "cell_type": "code",
   "execution_count": 59,
   "metadata": {
    "scrolled": false
   },
   "outputs": [
    {
     "name": "stdout",
     "output_type": "stream",
     "text": [
      "Stage #3085290304: Holdem  No Limit $1 - 2009-07-20 03:53:29 (ET)\n",
      "Table: DUBEN AVE (Real Money) Seat #4 is the dealer\n",
      "Seat 4 - +42liRrZL1beMOq6BzLIVA ($22.43 in chips)\n",
      "Seat 5 - AgHNNhfzwoC0WQ7M8XQNZQ ($254.45 in chips)\n",
      "Seat 6 - pX/V1GfkFSGl6Uxof13dmgelizdsKSUTdz03DGhameVw$201.95 in chips)\n",
      "Seat 1 - 1It0GAQ0kSqlVzyWsWDHIQ ($200 in chips)\n",
      "Seat 2 - Lw9QOaf4OnS/SkfEjT4Owg ($215.30 in chips)\n",
      "Seat 3 - yK25VBM6j4HBQtdWdxQZrg ($162.75 in chips)\n",
      "AgHNNhfzwoC0WQ7M8XQNZQ - Posts small blind $0.50\n",
      "pX/V1GfkFSGl6Uxof13dmgelizdsKSUTdz03DGhameVw Posts big blind $1\n",
      "*** POCKET CARDS ***\n",
      "1It0GAQ0kSqlVzyWsWDHIQ - Folds\n",
      "Lw9QOaf4OnS/SkfEjT4Owg - Folds\n",
      "yK25VBM6j4HBQtdWdxQZrg - Calls $1\n",
      "+42liRrZL1beMOq6BzLIVA - Folds\n",
      "AgHNNhfzwoC0WQ7M8XQNZQ - Calls $0.50\n",
      "pX/V1GfkFSGl6Uxof13dmgelizdsKSUTdz03DGhameVw Checks\n",
      "*** FLOP *** [8h Ks 4h]\n",
      "AgHNNhfzwoC0WQ7M8XQNZQ - Checks\n",
      "pX/V1GfkFSGl6Uxof13dmgelizdsKSUTdz03DGhameVw Checks\n",
      "yK25VBM6j4HBQtdWdxQZrg - Checks\n",
      "*** TURN *** [8h Ks 4h] [4c]\n",
      "AgHNNhfzwoC0WQ7M8XQNZQ - Checks\n",
      "pX/V1GfkFSGl6Uxof13dmgelizdsKSUTdz03DGhameVw Checks\n",
      "yK25VBM6j4HBQtdWdxQZrg - Checks\n",
      "*** RIVER *** [8h Ks 4h 4c] [9c]\n",
      "AgHNNhfzwoC0WQ7M8XQNZQ - Checks\n",
      "pX/V1GfkFSGl6Uxof13dmgelizdsKSUTdz03DGhameVw Checks\n",
      "yK25VBM6j4HBQtdWdxQZrg - Checks\n",
      "*** SHOW DOWN ***\n",
      "AgHNNhfzwoC0WQ7M8XQNZQ - Shows [5d 6s] (One pair, fours)\n",
      "pX/V1GfkFSGl6Uxof13dmgelizdsKSUTdz03DGhameVw Shows [10d Jd] (One pair, fours)\n",
      "yK25VBM6j4HBQtdWdxQZrg - Shows [5h 5c] (Two Pair, fives and fours)\n",
      "yK25VBM6j4HBQtdWdxQZrg Collects $2.85 from main pot\n",
      "*** SUMMARY ***\n",
      "Total Pot($3) | Rake ($0.15)\n",
      "Board [8h Ks 4h 4c 9c]\n",
      "Seat 1: 1It0GAQ0kSqlVzyWsWDHIQ Folded on the POCKET CARDS\n",
      "Seat 2: Lw9QOaf4OnS/SkfEjT4Owg Folded on the POCKET CARDS\n",
      "Seat 3: yK25VBM6j4HBQtdWdxQZrg won Total ($2.85) HI:($2.85) with Two Pair, fives and fours [5h 5c - P:5h,P:5c,B:4h,B:4c,B:Ks]\n",
      "Seat 4: +42liRrZL1beMOq6BzLIVA (dealer) Folded on the POCKET CARDS\n",
      "Seat 5: AgHNNhfzwoC0WQ7M8XQNZQ (small blind) HI:lost with One pair, fours [5d 6s - B:4h,B:4c,B:Ks,B:9c,B:8h]\n",
      "Seat 6: pX/V1GfkFSGl6Uxof13dmgelizdsKSUTdz03DGhameVwbig blind) HI:lost with One pair, fours [10d Jd - B:4h,B:4c,B:Ks,P:Jd,P:10d] Stage #3058805860: Holdem  No Limit $1 - 2009-07-12 20:59:07 (ET)\n",
      "Table: BURLINGTON (Real Money) Seat #6 is the dealer\n",
      "Seat 6 - arrhJBpX5+1wZC0mSrIBZg ($198 in chips)\n",
      "Seat 7 - qxg82XBgu3sBAg+WXlYuaA ($90.25 in chips)\n",
      "Seat 8 - NC5QohqEGcttk5v8wCU6yw ($146.90 in chips)\n",
      "Seat 9 - jbANpBvPLuqP4NZfmhkbmw ($254.50 in chips)\n",
      "Seat 1 - H022QjEEW2y5e9OsawY5Ig ($221 in chips)\n",
      "Seat 2 - D349ibaQPCHK2sz5DLUXfA ($242.30 in chips)\n",
      "Seat 3 - goeIOt/DXClJxnpHqXnp4Q ($169.30 in chips)\n",
      "Seat 4 - kIbanshKysxtdDXKqLAWsA ($118 in chips)\n",
      "Seat 5 - ROLP6S9kaoxp9w2XBSEfigelizdsKSUTdz03DGhameVw$153 in chips)\n",
      "qxg82XBgu3sBAg+WXlYuaA - Posts small blind $0.50\n",
      "NC5QohqEGcttk5v8wCU6yw - Posts big blind $1\n",
      "*** POCKET CARDS ***\n",
      "jbANpBvPLuqP4NZfmhkbmw - Folds\n",
      "H022QjEEW2y5e9OsawY5Ig - Folds\n",
      "D349ibaQPCHK2sz5DLUXfA - Folds\n",
      "goeIOt/DXClJxnpHqXnp4Q - Folds\n",
      "kIbanshKysxtdDXKqLAWsA - Raises $3.50 to $3.50\n",
      "ROLP6S9kaoxp9w2XBSEfigelizdsKSUTdz03DGhameVw Folds\n",
      "arrhJBpX5+1wZC0mSrIBZg - Folds\n",
      "qxg82XBgu3sBAg+WXlYuaA - Folds\n",
      "NC5QohqEGcttk5v8wCU6yw - Folds\n",
      "kIbanshKysxtdDXKqLAWsA - returned ($2.50) : not called\n",
      "*** SHOW DOWN ***\n",
      "kIbanshKysxtdDXKqLAWsA - Does not show\n",
      "kIbanshKysxtdDXKqLAWsA Collects $2.50 from main pot\n",
      "*** SUMMARY ***\n",
      "Total Pot($2.50)\n",
      "Seat 1: H022QjEEW2y5e9OsawY5Ig Folded on the POCKET CARDS\n",
      "Seat 2: D349ibaQPCHK2sz5DLUXfA Folded on the POCKET CARDS\n",
      "Seat 3: goeIOt/DXClJxnpHqXnp4Q Folded on the POCKET CARDS\n",
      "Seat 4: kIbanshKysxtdDXKqLAWsA collected Total ($2.50)\n",
      "Seat 5: ROLP6S9kaoxp9w2XBSEfigelizdsKSUTdz03DGhameVwolded on the POCKET CARDS\n",
      "Seat 6: arrhJBpX5+1wZC0mSrIBZg (dealer) Folded on the POCKET CARDS\n",
      "Seat 7: qxg82XBgu3sBAg+WXlYuaA (small blind) Folded on the POCKET CARDS\n",
      "Seat 8: NC5QohqEGcttk5v8wCU6yw (big blind) Folded on the POCKET CARDS\n",
      "Seat 9: jbANpBvPLuqP4NZfmhkbmw Folded on the POCKET CARDS\n"
     ]
    }
   ],
   "source": [
    "# inspect a couple of these indexs in the original text\n",
    "print(poker_hands1[239681], poker_hands1[106837])"
   ]
  },
  {
   "cell_type": "code",
   "execution_count": 60,
   "metadata": {},
   "outputs": [
    {
     "data": {
      "text/plain": [
       "858"
      ]
     },
     "execution_count": 60,
     "metadata": {},
     "output_type": "execute_result"
    }
   ],
   "source": [
    "# create a list of hands to delete\n",
    "hands_to_delete = []\n",
    "for i in range(len(hand_ids)):\n",
    "    if len(active_seats[i]) != len(active_players[i]):\n",
    "        hands_to_delete.append(hand_ids[i])\n",
    "len(hands_to_delete)"
   ]
  },
  {
   "cell_type": "code",
   "execution_count": 61,
   "metadata": {
    "scrolled": false
   },
   "outputs": [
    {
     "data": {
      "text/html": [
       "<div>\n",
       "<style scoped>\n",
       "    .dataframe tbody tr th:only-of-type {\n",
       "        vertical-align: middle;\n",
       "    }\n",
       "\n",
       "    .dataframe tbody tr th {\n",
       "        vertical-align: top;\n",
       "    }\n",
       "\n",
       "    .dataframe thead th {\n",
       "        text-align: right;\n",
       "    }\n",
       "</style>\n",
       "<table border=\"1\" class=\"dataframe\">\n",
       "  <thead>\n",
       "    <tr style=\"text-align: right;\">\n",
       "      <th></th>\n",
       "      <th>hand_id</th>\n",
       "      <th>seat</th>\n",
       "      <th>player id</th>\n",
       "      <th>starting_stack</th>\n",
       "      <th>post</th>\n",
       "      <th>position</th>\n",
       "      <th>preflop</th>\n",
       "      <th>p_amount</th>\n",
       "      <th>flop</th>\n",
       "      <th>f_amount</th>\n",
       "      <th>turn</th>\n",
       "      <th>t_amount</th>\n",
       "      <th>river</th>\n",
       "      <th>r_amount</th>\n",
       "      <th>winner_player_id</th>\n",
       "    </tr>\n",
       "  </thead>\n",
       "  <tbody>\n",
       "    <tr>\n",
       "      <th>0</th>\n",
       "      <td>3017237436</td>\n",
       "      <td>[5, 6, 2, 3]</td>\n",
       "      <td>[vETYfpoA+FhBercnDPJrRw, DeZAZcPNNQ5w+Wb+5ujZd...</td>\n",
       "      <td>[197, 200.30, 78.50, 81.60]</td>\n",
       "      <td>[0, 0.5, 0, 1.0]</td>\n",
       "      <td>[dealer, small blind, other, big blind]</td>\n",
       "      <td>[Folds, Raises, NA, Folds]</td>\n",
       "      <td>[0, 2.5, 0, 0]</td>\n",
       "      <td>[NA, NA, NA, NA]</td>\n",
       "      <td>[0, 0, 0, 0]</td>\n",
       "      <td>[NA, NA, NA, NA]</td>\n",
       "      <td>[0, 0, 0, 0]</td>\n",
       "      <td>[NA, NA, NA, NA]</td>\n",
       "      <td>[0, 0, 0, 0]</td>\n",
       "      <td>DeZAZcPNNQ5w+Wb+5ujZdA</td>\n",
       "    </tr>\n",
       "    <tr>\n",
       "      <th>1</th>\n",
       "      <td>3017235188</td>\n",
       "      <td>[4, 5, 1, 2, 3]</td>\n",
       "      <td>[s32h30cC3rPhG5FiSCU42g, uwsIGbIB4ktlhz44JKQKD...</td>\n",
       "      <td>[55.50, 247.10, 14.60, 200, 96.50]</td>\n",
       "      <td>[0, 0.5, 1.0, 1.0, 0]</td>\n",
       "      <td>[dealer, small blind, big blind, other, other]</td>\n",
       "      <td>[Folds, Calls, Checks, Checks, Folds]</td>\n",
       "      <td>[0, 0.5, 0, 0, 0]</td>\n",
       "      <td>[NA, Checks, Checks, Checks, NA]</td>\n",
       "      <td>[0, 0, 0, 0, 0]</td>\n",
       "      <td>[NA, Checks, Checks, Checks, NA]</td>\n",
       "      <td>[0, 0, 0, 0, 0]</td>\n",
       "      <td>[NA, Checks, Checks, Checks, NA]</td>\n",
       "      <td>[0, 0, 0, 0, 0]</td>\n",
       "      <td>uwsIGbIB4ktlhz44JKQKDQ</td>\n",
       "    </tr>\n",
       "    <tr>\n",
       "      <th>2</th>\n",
       "      <td>3017243048</td>\n",
       "      <td>[2, 3, 4, 5, 6, 7, 8, 9, 1]</td>\n",
       "      <td>[kExuS3SxZYRG/oFTl97LzA, ZpYc8/ksQYSNFEFIeiSSW...</td>\n",
       "      <td>[94.75, 28.70, 200.90, 69, 36.90, 74.30, 264, ...</td>\n",
       "      <td>[0, 0.5, 1.0, 0, 0, 0, 0, 0, 1.0]</td>\n",
       "      <td>[dealer, small blind, big blind, other, other,...</td>\n",
       "      <td>[Folds, Calls, Checks, Folds, Folds, Calls, Fo...</td>\n",
       "      <td>[0, 0.5, 0, 0, 0, 1.0, 0, 1.0, 0]</td>\n",
       "      <td>[NA, Checks Folds, Checks Folds, NA, NA, Bets ...</td>\n",
       "      <td>[0, 0, 0, 0, 0, 17.0, 0, 6.0, 0]</td>\n",
       "      <td>[NA, NA, NA, NA, NA, NA, NA, NA, NA]</td>\n",
       "      <td>[0, 0, 0, 0, 0, 0, 0, 0, 0]</td>\n",
       "      <td>[NA, NA, NA, NA, NA, NA, NA, NA, NA]</td>\n",
       "      <td>[0, 0, 0, 0, 0, 0, 0, 0, 0]</td>\n",
       "      <td>LHSEggf8hUg0kqvaCgiJcw</td>\n",
       "    </tr>\n",
       "    <tr>\n",
       "      <th>3</th>\n",
       "      <td>3017249292</td>\n",
       "      <td>[1, 2, 3, 4, 7, 8, 9]</td>\n",
       "      <td>[kukN3pTqN1CyHqx/bq+8xw, kExuS3SxZYRG/oFTl97Lz...</td>\n",
       "      <td>[66, 543.60, 248.16, 215.80, 128.25, 35.90, 98...</td>\n",
       "      <td>[0, 0.5, 1.0, 0, 0, 0, 0]</td>\n",
       "      <td>[dealer, small blind, big blind, other, other,...</td>\n",
       "      <td>[Raises, Folds, Folds, Folds, Folds, Calls Cal...</td>\n",
       "      <td>[3.0, 0, 0, 0, 0, 3.0, 0]</td>\n",
       "      <td>[Checks, NA, NA, NA, NA, Checks, NA]</td>\n",
       "      <td>[0, 0, 0, 0, 0, 0, 0]</td>\n",
       "      <td>[Bets, NA, NA, NA, NA, Checks Calls, NA]</td>\n",
       "      <td>[3.0, 0, 0, 0, 0, 3.0, 0]</td>\n",
       "      <td>[Bets, NA, NA, NA, NA, Checks Calls, NA]</td>\n",
       "      <td>[5.0, 0, 0, 0, 0, 5.0, 0]</td>\n",
       "      <td>kukN3pTqN1CyHqx/bq+8xw</td>\n",
       "    </tr>\n",
       "    <tr>\n",
       "      <th>4</th>\n",
       "      <td>3017240160</td>\n",
       "      <td>[6, 1, 2, 3, 4, 5]</td>\n",
       "      <td>[TiIZzdoB4G68QIRlf2vUrQ, c6u64hpBVK0VIc6NUysIq...</td>\n",
       "      <td>[138.50, 54.75, 80, 44.10, 87.05, 202.30]</td>\n",
       "      <td>[0, 0.5, 1.0, 0, 0, 0]</td>\n",
       "      <td>[dealer, small blind, big blind, other, other,...</td>\n",
       "      <td>[Folds, Folds, Folds, Folds, Raises, Folds]</td>\n",
       "      <td>[0, 0, 0, 0, 3.5, 0]</td>\n",
       "      <td>[NA, NA, NA, NA, NA, NA]</td>\n",
       "      <td>[0, 0, 0, 0, 0, 0]</td>\n",
       "      <td>[NA, NA, NA, NA, NA, NA]</td>\n",
       "      <td>[0, 0, 0, 0, 0, 0]</td>\n",
       "      <td>[NA, NA, NA, NA, NA, NA]</td>\n",
       "      <td>[0, 0, 0, 0, 0, 0]</td>\n",
       "      <td>AiiJXMM0CfYl69+Nq3jyfA</td>\n",
       "    </tr>\n",
       "    <tr>\n",
       "      <th>...</th>\n",
       "      <td>...</td>\n",
       "      <td>...</td>\n",
       "      <td>...</td>\n",
       "      <td>...</td>\n",
       "      <td>...</td>\n",
       "      <td>...</td>\n",
       "      <td>...</td>\n",
       "      <td>...</td>\n",
       "      <td>...</td>\n",
       "      <td>...</td>\n",
       "      <td>...</td>\n",
       "      <td>...</td>\n",
       "      <td>...</td>\n",
       "      <td>...</td>\n",
       "      <td>...</td>\n",
       "    </tr>\n",
       "    <tr>\n",
       "      <th>322576</th>\n",
       "      <td>3035395224</td>\n",
       "      <td>[4, 6]</td>\n",
       "      <td>[q+7qRox82LHb4d9JJLQk9Q, BIKFfnQvyn9+ELM5Qjumew]</td>\n",
       "      <td>[458.95, 156.05]</td>\n",
       "      <td>[0.5, 1.0]</td>\n",
       "      <td>[dealer, big blind]</td>\n",
       "      <td>[Raises, Calls]</td>\n",
       "      <td>[2.5, 2.0]</td>\n",
       "      <td>[Raises, Bets Folds]</td>\n",
       "      <td>[18.0, 6.0]</td>\n",
       "      <td>[NA, NA]</td>\n",
       "      <td>[0, 0]</td>\n",
       "      <td>[NA, NA]</td>\n",
       "      <td>[0, 0]</td>\n",
       "      <td>q+7qRox82LHb4d9JJLQk9Q</td>\n",
       "    </tr>\n",
       "    <tr>\n",
       "      <th>322577</th>\n",
       "      <td>3035395278</td>\n",
       "      <td>[1, 2, 3, 4, 5, 6]</td>\n",
       "      <td>[0xx2I+FfRzMVj7w16FMilQ, GQ0nywi91EI/9xQjs2PJC...</td>\n",
       "      <td>[113.75, 108.55, 205, 116.75, 118.90, 16.10]</td>\n",
       "      <td>[0, 0.5, 1.0, 0, 0, 0]</td>\n",
       "      <td>[dealer, small blind, big blind, other, other,...</td>\n",
       "      <td>[Raises, Folds, Folds, Folds, Folds, Folds]</td>\n",
       "      <td>[3.0, 0, 0, 0, 0, 0]</td>\n",
       "      <td>[NA, NA, NA, NA, NA, NA]</td>\n",
       "      <td>[0, 0, 0, 0, 0, 0]</td>\n",
       "      <td>[NA, NA, NA, NA, NA, NA]</td>\n",
       "      <td>[0, 0, 0, 0, 0, 0]</td>\n",
       "      <td>[NA, NA, NA, NA, NA, NA]</td>\n",
       "      <td>[0, 0, 0, 0, 0, 0]</td>\n",
       "      <td>0xx2I+FfRzMVj7w16FMilQ</td>\n",
       "    </tr>\n",
       "    <tr>\n",
       "      <th>322578</th>\n",
       "      <td>3035395696</td>\n",
       "      <td>[3, 4, 5, 6, 1, 2]</td>\n",
       "      <td>[EL56pDqJIH50UlBT0W57lw, WbyFTZtHE6doaricbG4eb...</td>\n",
       "      <td>[200, 365.20, 155.32, 57.20, 97.46, 340.65]</td>\n",
       "      <td>[0, 0.5, 1.0, 0, 0, 0]</td>\n",
       "      <td>[dealer, small blind, big blind, other, other,...</td>\n",
       "      <td>[Folds, Folds, NA, Folds, Folds, Folds]</td>\n",
       "      <td>[0, 0, 0, 0, 0, 0]</td>\n",
       "      <td>[NA, NA, NA, NA, NA, NA]</td>\n",
       "      <td>[0, 0, 0, 0, 0, 0]</td>\n",
       "      <td>[NA, NA, NA, NA, NA, NA]</td>\n",
       "      <td>[0, 0, 0, 0, 0, 0]</td>\n",
       "      <td>[NA, NA, NA, NA, NA, NA]</td>\n",
       "      <td>[0, 0, 0, 0, 0, 0]</td>\n",
       "      <td>qoIZizyRrSWFhTV7ehXVnw</td>\n",
       "    </tr>\n",
       "    <tr>\n",
       "      <th>322579</th>\n",
       "      <td>3035395738</td>\n",
       "      <td>[6, 4]</td>\n",
       "      <td>[BIKFfnQvyn9+ELM5Qjumew, q+7qRox82LHb4d9JJLQk9Q]</td>\n",
       "      <td>[147.05, 467.45]</td>\n",
       "      <td>[0.5, 1.0]</td>\n",
       "      <td>[dealer, big blind]</td>\n",
       "      <td>[Raises, Folds]</td>\n",
       "      <td>[1.5, 0]</td>\n",
       "      <td>[NA, NA]</td>\n",
       "      <td>[0, 0]</td>\n",
       "      <td>[NA, NA]</td>\n",
       "      <td>[0, 0]</td>\n",
       "      <td>[NA, NA]</td>\n",
       "      <td>[0, 0]</td>\n",
       "      <td>BIKFfnQvyn9+ELM5Qjumew</td>\n",
       "    </tr>\n",
       "    <tr>\n",
       "      <th>322580</th>\n",
       "      <td>3035396830</td>\n",
       "      <td>[5, 6, 1, 2, 3, 4]</td>\n",
       "      <td>[wMdq1Vsfb3yU3bONnHEvmg, 0xx2I+FfRzMVj7w16FMil...</td>\n",
       "      <td>[221.53, 102.50, 23.80, 129.25, 212.40, 169.45]</td>\n",
       "      <td>[0, 0.5, 1.0, 0, 0, 0]</td>\n",
       "      <td>[dealer, small blind, big blind, other, other,...</td>\n",
       "      <td>[Folds, Folds, Folds, Folds, Folds, Raises]</td>\n",
       "      <td>[0, 0, 0, 0, 0, 3.5]</td>\n",
       "      <td>[NA, NA, NA, NA, NA, NA]</td>\n",
       "      <td>[0, 0, 0, 0, 0, 0]</td>\n",
       "      <td>[NA, NA, NA, NA, NA, NA]</td>\n",
       "      <td>[0, 0, 0, 0, 0, 0]</td>\n",
       "      <td>[NA, NA, NA, NA, NA, NA]</td>\n",
       "      <td>[0, 0, 0, 0, 0, 0]</td>\n",
       "      <td>WtuwXxyxbK9O35PGqYc8Zg</td>\n",
       "    </tr>\n",
       "  </tbody>\n",
       "</table>\n",
       "<p>322581 rows × 15 columns</p>\n",
       "</div>"
      ],
      "text/plain": [
       "           hand_id                         seat  \\\n",
       "0       3017237436                 [5, 6, 2, 3]   \n",
       "1       3017235188              [4, 5, 1, 2, 3]   \n",
       "2       3017243048  [2, 3, 4, 5, 6, 7, 8, 9, 1]   \n",
       "3       3017249292        [1, 2, 3, 4, 7, 8, 9]   \n",
       "4       3017240160           [6, 1, 2, 3, 4, 5]   \n",
       "...            ...                          ...   \n",
       "322576  3035395224                       [4, 6]   \n",
       "322577  3035395278           [1, 2, 3, 4, 5, 6]   \n",
       "322578  3035395696           [3, 4, 5, 6, 1, 2]   \n",
       "322579  3035395738                       [6, 4]   \n",
       "322580  3035396830           [5, 6, 1, 2, 3, 4]   \n",
       "\n",
       "                                                player id  \\\n",
       "0       [vETYfpoA+FhBercnDPJrRw, DeZAZcPNNQ5w+Wb+5ujZd...   \n",
       "1       [s32h30cC3rPhG5FiSCU42g, uwsIGbIB4ktlhz44JKQKD...   \n",
       "2       [kExuS3SxZYRG/oFTl97LzA, ZpYc8/ksQYSNFEFIeiSSW...   \n",
       "3       [kukN3pTqN1CyHqx/bq+8xw, kExuS3SxZYRG/oFTl97Lz...   \n",
       "4       [TiIZzdoB4G68QIRlf2vUrQ, c6u64hpBVK0VIc6NUysIq...   \n",
       "...                                                   ...   \n",
       "322576   [q+7qRox82LHb4d9JJLQk9Q, BIKFfnQvyn9+ELM5Qjumew]   \n",
       "322577  [0xx2I+FfRzMVj7w16FMilQ, GQ0nywi91EI/9xQjs2PJC...   \n",
       "322578  [EL56pDqJIH50UlBT0W57lw, WbyFTZtHE6doaricbG4eb...   \n",
       "322579   [BIKFfnQvyn9+ELM5Qjumew, q+7qRox82LHb4d9JJLQk9Q]   \n",
       "322580  [wMdq1Vsfb3yU3bONnHEvmg, 0xx2I+FfRzMVj7w16FMil...   \n",
       "\n",
       "                                           starting_stack  \\\n",
       "0                             [197, 200.30, 78.50, 81.60]   \n",
       "1                      [55.50, 247.10, 14.60, 200, 96.50]   \n",
       "2       [94.75, 28.70, 200.90, 69, 36.90, 74.30, 264, ...   \n",
       "3       [66, 543.60, 248.16, 215.80, 128.25, 35.90, 98...   \n",
       "4               [138.50, 54.75, 80, 44.10, 87.05, 202.30]   \n",
       "...                                                   ...   \n",
       "322576                                   [458.95, 156.05]   \n",
       "322577       [113.75, 108.55, 205, 116.75, 118.90, 16.10]   \n",
       "322578        [200, 365.20, 155.32, 57.20, 97.46, 340.65]   \n",
       "322579                                   [147.05, 467.45]   \n",
       "322580    [221.53, 102.50, 23.80, 129.25, 212.40, 169.45]   \n",
       "\n",
       "                                     post  \\\n",
       "0                        [0, 0.5, 0, 1.0]   \n",
       "1                   [0, 0.5, 1.0, 1.0, 0]   \n",
       "2       [0, 0.5, 1.0, 0, 0, 0, 0, 0, 1.0]   \n",
       "3               [0, 0.5, 1.0, 0, 0, 0, 0]   \n",
       "4                  [0, 0.5, 1.0, 0, 0, 0]   \n",
       "...                                   ...   \n",
       "322576                         [0.5, 1.0]   \n",
       "322577             [0, 0.5, 1.0, 0, 0, 0]   \n",
       "322578             [0, 0.5, 1.0, 0, 0, 0]   \n",
       "322579                         [0.5, 1.0]   \n",
       "322580             [0, 0.5, 1.0, 0, 0, 0]   \n",
       "\n",
       "                                                 position  \\\n",
       "0                 [dealer, small blind, other, big blind]   \n",
       "1          [dealer, small blind, big blind, other, other]   \n",
       "2       [dealer, small blind, big blind, other, other,...   \n",
       "3       [dealer, small blind, big blind, other, other,...   \n",
       "4       [dealer, small blind, big blind, other, other,...   \n",
       "...                                                   ...   \n",
       "322576                                [dealer, big blind]   \n",
       "322577  [dealer, small blind, big blind, other, other,...   \n",
       "322578  [dealer, small blind, big blind, other, other,...   \n",
       "322579                                [dealer, big blind]   \n",
       "322580  [dealer, small blind, big blind, other, other,...   \n",
       "\n",
       "                                                  preflop  \\\n",
       "0                              [Folds, Raises, NA, Folds]   \n",
       "1                   [Folds, Calls, Checks, Checks, Folds]   \n",
       "2       [Folds, Calls, Checks, Folds, Folds, Calls, Fo...   \n",
       "3       [Raises, Folds, Folds, Folds, Folds, Calls Cal...   \n",
       "4             [Folds, Folds, Folds, Folds, Raises, Folds]   \n",
       "...                                                   ...   \n",
       "322576                                    [Raises, Calls]   \n",
       "322577        [Raises, Folds, Folds, Folds, Folds, Folds]   \n",
       "322578            [Folds, Folds, NA, Folds, Folds, Folds]   \n",
       "322579                                    [Raises, Folds]   \n",
       "322580        [Folds, Folds, Folds, Folds, Folds, Raises]   \n",
       "\n",
       "                                 p_amount  \\\n",
       "0                          [0, 2.5, 0, 0]   \n",
       "1                       [0, 0.5, 0, 0, 0]   \n",
       "2       [0, 0.5, 0, 0, 0, 1.0, 0, 1.0, 0]   \n",
       "3               [3.0, 0, 0, 0, 0, 3.0, 0]   \n",
       "4                    [0, 0, 0, 0, 3.5, 0]   \n",
       "...                                   ...   \n",
       "322576                         [2.5, 2.0]   \n",
       "322577               [3.0, 0, 0, 0, 0, 0]   \n",
       "322578                 [0, 0, 0, 0, 0, 0]   \n",
       "322579                           [1.5, 0]   \n",
       "322580               [0, 0, 0, 0, 0, 3.5]   \n",
       "\n",
       "                                                     flop  \\\n",
       "0                                        [NA, NA, NA, NA]   \n",
       "1                        [NA, Checks, Checks, Checks, NA]   \n",
       "2       [NA, Checks Folds, Checks Folds, NA, NA, Bets ...   \n",
       "3                    [Checks, NA, NA, NA, NA, Checks, NA]   \n",
       "4                                [NA, NA, NA, NA, NA, NA]   \n",
       "...                                                   ...   \n",
       "322576                               [Raises, Bets Folds]   \n",
       "322577                           [NA, NA, NA, NA, NA, NA]   \n",
       "322578                           [NA, NA, NA, NA, NA, NA]   \n",
       "322579                                           [NA, NA]   \n",
       "322580                           [NA, NA, NA, NA, NA, NA]   \n",
       "\n",
       "                                f_amount  \\\n",
       "0                           [0, 0, 0, 0]   \n",
       "1                        [0, 0, 0, 0, 0]   \n",
       "2       [0, 0, 0, 0, 0, 17.0, 0, 6.0, 0]   \n",
       "3                  [0, 0, 0, 0, 0, 0, 0]   \n",
       "4                     [0, 0, 0, 0, 0, 0]   \n",
       "...                                  ...   \n",
       "322576                       [18.0, 6.0]   \n",
       "322577                [0, 0, 0, 0, 0, 0]   \n",
       "322578                [0, 0, 0, 0, 0, 0]   \n",
       "322579                            [0, 0]   \n",
       "322580                [0, 0, 0, 0, 0, 0]   \n",
       "\n",
       "                                            turn                     t_amount  \\\n",
       "0                               [NA, NA, NA, NA]                 [0, 0, 0, 0]   \n",
       "1               [NA, Checks, Checks, Checks, NA]              [0, 0, 0, 0, 0]   \n",
       "2           [NA, NA, NA, NA, NA, NA, NA, NA, NA]  [0, 0, 0, 0, 0, 0, 0, 0, 0]   \n",
       "3       [Bets, NA, NA, NA, NA, Checks Calls, NA]    [3.0, 0, 0, 0, 0, 3.0, 0]   \n",
       "4                       [NA, NA, NA, NA, NA, NA]           [0, 0, 0, 0, 0, 0]   \n",
       "...                                          ...                          ...   \n",
       "322576                                  [NA, NA]                       [0, 0]   \n",
       "322577                  [NA, NA, NA, NA, NA, NA]           [0, 0, 0, 0, 0, 0]   \n",
       "322578                  [NA, NA, NA, NA, NA, NA]           [0, 0, 0, 0, 0, 0]   \n",
       "322579                                  [NA, NA]                       [0, 0]   \n",
       "322580                  [NA, NA, NA, NA, NA, NA]           [0, 0, 0, 0, 0, 0]   \n",
       "\n",
       "                                           river                     r_amount  \\\n",
       "0                               [NA, NA, NA, NA]                 [0, 0, 0, 0]   \n",
       "1               [NA, Checks, Checks, Checks, NA]              [0, 0, 0, 0, 0]   \n",
       "2           [NA, NA, NA, NA, NA, NA, NA, NA, NA]  [0, 0, 0, 0, 0, 0, 0, 0, 0]   \n",
       "3       [Bets, NA, NA, NA, NA, Checks Calls, NA]    [5.0, 0, 0, 0, 0, 5.0, 0]   \n",
       "4                       [NA, NA, NA, NA, NA, NA]           [0, 0, 0, 0, 0, 0]   \n",
       "...                                          ...                          ...   \n",
       "322576                                  [NA, NA]                       [0, 0]   \n",
       "322577                  [NA, NA, NA, NA, NA, NA]           [0, 0, 0, 0, 0, 0]   \n",
       "322578                  [NA, NA, NA, NA, NA, NA]           [0, 0, 0, 0, 0, 0]   \n",
       "322579                                  [NA, NA]                       [0, 0]   \n",
       "322580                  [NA, NA, NA, NA, NA, NA]           [0, 0, 0, 0, 0, 0]   \n",
       "\n",
       "              winner_player_id  \n",
       "0       DeZAZcPNNQ5w+Wb+5ujZdA  \n",
       "1       uwsIGbIB4ktlhz44JKQKDQ  \n",
       "2       LHSEggf8hUg0kqvaCgiJcw  \n",
       "3       kukN3pTqN1CyHqx/bq+8xw  \n",
       "4       AiiJXMM0CfYl69+Nq3jyfA  \n",
       "...                        ...  \n",
       "322576  q+7qRox82LHb4d9JJLQk9Q  \n",
       "322577  0xx2I+FfRzMVj7w16FMilQ  \n",
       "322578  qoIZizyRrSWFhTV7ehXVnw  \n",
       "322579  BIKFfnQvyn9+ELM5Qjumew  \n",
       "322580  WtuwXxyxbK9O35PGqYc8Zg  \n",
       "\n",
       "[322581 rows x 15 columns]"
      ]
     },
     "execution_count": 61,
     "metadata": {},
     "output_type": "execute_result"
    }
   ],
   "source": [
    "# assign a new variable for the dataframe after dropping the 858 'bad rows'\n",
    "x = hand_details_df[~hand_details_df['hand_id'].isin(hands_to_delete)].reset_index(drop=True)\n",
    "x"
   ]
  },
  {
   "cell_type": "code",
   "execution_count": 62,
   "metadata": {},
   "outputs": [],
   "source": [
    "# expand each lists for the columns with a similar method as before\n",
    "# recreate lists in the expanded version for the expanded dataframe\n",
    "hand_ids_exp = []\n",
    "active_seats_exp = []\n",
    "active_players_exp = []\n",
    "starting_stacks_exp = []\n",
    "posts_exp = []\n",
    "pre_action_exp = []\n",
    "pre_amount_exp = []\n",
    "flop_action_exp = []\n",
    "flop_amount_exp = []\n",
    "turn_action_exp = []\n",
    "turn_amount_exp = []\n",
    "river_action_exp = []\n",
    "river_amount_exp = []\n",
    "position_exp = []\n",
    "for i in range(len(x['hand_id'])):\n",
    "    active_seats_exp += x['seat'][i]\n",
    "    active_players_exp += x['player id'][i]\n",
    "    starting_stacks_exp += x['starting_stack'][i]\n",
    "    posts_exp += x['post'][i]\n",
    "    pre_action_exp += x['preflop'][i]\n",
    "    pre_amount_exp += x['p_amount'][i]\n",
    "    flop_action_exp += x['flop'][i]\n",
    "    flop_amount_exp += x['f_amount'][i]\n",
    "    turn_action_exp += x['turn'][i]\n",
    "    turn_amount_exp += x['t_amount'][i]\n",
    "    river_action_exp += x['river'][i]\n",
    "    river_amount_exp += x['r_amount'][i]\n",
    "    position_exp += x['position'][i]\n",
    "    for n in range(len(x['player id'][i])):\n",
    "        hand_ids_exp.append(x['hand_id'][i])"
   ]
  },
  {
   "cell_type": "code",
   "execution_count": 63,
   "metadata": {},
   "outputs": [],
   "source": [
    "# recreate the expanded dataframe\n",
    "det_exp_df = pd.DataFrame([hand_ids_exp, active_players_exp, active_seats_exp, starting_stacks_exp, position_exp, posts_exp, pre_action_exp, pre_amount_exp, flop_action_exp, flop_amount_exp, turn_action_exp, turn_amount_exp, river_action_exp, river_amount_exp]).T"
   ]
  },
  {
   "cell_type": "code",
   "execution_count": 64,
   "metadata": {
    "scrolled": true
   },
   "outputs": [
    {
     "data": {
      "text/plain": [
       "(      hand_id               player_id seat   stack     position post preflop  \\\n",
       " 0  3017237436  vETYfpoA+FhBercnDPJrRw    5     197       dealer    0   Folds   \n",
       " 1  3017237436  DeZAZcPNNQ5w+Wb+5ujZdA    6  200.30  small blind  0.5  Raises   \n",
       " 2  3017237436  AiiJXMM0CfYl69+Nq3jyfA    2   78.50        other    0      NA   \n",
       " 3  3017237436  id+sbECX+YdI8qhMhpje+g    3   81.60    big blind    1   Folds   \n",
       " 4  3017235188  s32h30cC3rPhG5FiSCU42g    4   55.50       dealer    0   Folds   \n",
       " \n",
       "   p_amount flop f_amount turn t_amount river r_amount  \n",
       " 0        0   NA        0   NA        0    NA        0  \n",
       " 1      2.5   NA        0   NA        0    NA        0  \n",
       " 2        0   NA        0   NA        0    NA        0  \n",
       " 3        0   NA        0   NA        0    NA        0  \n",
       " 4        0   NA        0   NA        0    NA        0  ,\n",
       "             hand_id               player_id seat   stack     position post  \\\n",
       " 1764892  3035396830  0xx2I+FfRzMVj7w16FMilQ    6  102.50  small blind  0.5   \n",
       " 1764893  3035396830  OPEglAGmUA0vHFHWj5Q2yQ    1   23.80    big blind    1   \n",
       " 1764894  3035396830  YSHxGU0SJJArHMcfAioprg    2  129.25        other    0   \n",
       " 1764895  3035396830  EL56pDqJIH50UlBT0W57lw    3  212.40        other    0   \n",
       " 1764896  3035396830  WtuwXxyxbK9O35PGqYc8Zg    4  169.45        other    0   \n",
       " \n",
       "         preflop p_amount flop f_amount turn t_amount river r_amount  \n",
       " 1764892   Folds        0   NA        0   NA        0    NA        0  \n",
       " 1764893   Folds        0   NA        0   NA        0    NA        0  \n",
       " 1764894   Folds        0   NA        0   NA        0    NA        0  \n",
       " 1764895   Folds        0   NA        0   NA        0    NA        0  \n",
       " 1764896  Raises      3.5   NA        0   NA        0    NA        0  )"
      ]
     },
     "execution_count": 64,
     "metadata": {},
     "output_type": "execute_result"
    }
   ],
   "source": [
    "#double check head and tail of the dataframe\n",
    "det_exp_df.columns = ['hand_id','player_id','seat','stack','position','post','preflop','p_amount','flop','f_amount','turn','t_amount','river','r_amount']\n",
    "det_exp_df.head(), det_exp_df.tail()"
   ]
  },
  {
   "cell_type": "code",
   "execution_count": 65,
   "metadata": {},
   "outputs": [],
   "source": [
    "table_setup = table_setup[~table_setup['hand_id'].isin(hands_to_delete)].reset_index(drop=True)"
   ]
  },
  {
   "cell_type": "code",
   "execution_count": 66,
   "metadata": {
    "scrolled": true
   },
   "outputs": [
    {
     "data": {
      "text/plain": [
       "((322581, 9), (322581, 15))"
      ]
     },
     "execution_count": 66,
     "metadata": {},
     "output_type": "execute_result"
    }
   ],
   "source": [
    "table_setup.shape, x.shape"
   ]
  },
  {
   "cell_type": "markdown",
   "metadata": {},
   "source": [
    "#### Finally, export the table_setup and details data frames as CSV files, and they will be used for the next steps of analysis."
   ]
  },
  {
   "cell_type": "code",
   "execution_count": 67,
   "metadata": {},
   "outputs": [],
   "source": [
    "# double check and export existing dataframes for later use\n",
    "table_setup.to_csv(r'result_files\\general_info.csv')\n",
    "det_exp_df.to_csv(r'result_files\\details_expanded.csv')"
   ]
  },
  {
   "cell_type": "code",
   "execution_count": null,
   "metadata": {},
   "outputs": [],
   "source": []
  }
 ],
 "metadata": {
  "kernelspec": {
   "display_name": "Python 3",
   "language": "python",
   "name": "python3"
  },
  "language_info": {
   "codemirror_mode": {
    "name": "ipython",
    "version": 3
   },
   "file_extension": ".py",
   "mimetype": "text/x-python",
   "name": "python",
   "nbconvert_exporter": "python",
   "pygments_lexer": "ipython3",
   "version": "3.7.6"
  }
 },
 "nbformat": 4,
 "nbformat_minor": 4
}
